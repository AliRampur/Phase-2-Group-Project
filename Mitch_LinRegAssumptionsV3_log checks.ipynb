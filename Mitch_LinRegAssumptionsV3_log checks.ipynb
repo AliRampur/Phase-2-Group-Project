{
 "cells": [
  {
   "cell_type": "code",
   "execution_count": 1,
   "metadata": {},
   "outputs": [],
   "source": [
    "#import \n",
    "\n",
    "import pandas as pd\n",
    "import numpy as np\n",
    "from matplotlib import pyplot as plt\n",
    "from scipy import stats\n",
    "import seaborn as sns\n",
    "from sklearn.linear_model import LinearRegression\n",
    "from mpl_toolkits import mplot3d\n",
    "import sklearn.metrics as metrics\n",
    "import statsmodels.api as sm\n",
    "from sklearn.preprocessing import OneHotEncoder\n",
    "from sklearn.preprocessing import OrdinalEncoder\n",
    "from sklearn.impute import SimpleImputer\n",
    "from sklearn.preprocessing import PolynomialFeatures\n",
    "from sklearn.model_selection import train_test_split\n",
    "from sklearn.linear_model import LinearRegression\n",
    "\n",
    "from statsmodels.stats.stattools import jarque_bera\n",
    "from statsmodels.stats.diagnostic import het_goldfeldquandt\n",
    "from statsmodels.stats.diagnostic import linear_rainbow\n",
    "\n",
    "%matplotlib inline"
   ]
  },
  {
   "cell_type": "markdown",
   "metadata": {},
   "source": [
    "### Setup model"
   ]
  },
  {
   "cell_type": "code",
   "execution_count": 2,
   "metadata": {
    "scrolled": true
   },
   "outputs": [
    {
     "name": "stderr",
     "output_type": "stream",
     "text": [
      "C:\\Users\\mitch\\anaconda3\\envs\\learn-env\\lib\\site-packages\\pandas\\core\\indexing.py:670: SettingWithCopyWarning: \n",
      "A value is trying to be set on a copy of a slice from a DataFrame\n",
      "\n",
      "See the caveats in the documentation: https://pandas.pydata.org/pandas-docs/stable/user_guide/indexing.html#returning-a-view-versus-a-copy\n",
      "  iloc._setitem_with_indexer(indexer, value)\n",
      "C:\\Users\\mitch\\anaconda3\\envs\\learn-env\\lib\\site-packages\\pandas\\core\\indexing.py:670: SettingWithCopyWarning: \n",
      "A value is trying to be set on a copy of a slice from a DataFrame\n",
      "\n",
      "See the caveats in the documentation: https://pandas.pydata.org/pandas-docs/stable/user_guide/indexing.html#returning-a-view-versus-a-copy\n",
      "  iloc._setitem_with_indexer(indexer, value)\n"
     ]
    }
   ],
   "source": [
    "df = pd.read_csv('./data/kc_house_data.csv',\n",
    "                parse_dates=['date'])\n",
    "\n",
    "df.drop(['id', 'floors',\n",
    "         'heat_source','lat','long'], axis=1, inplace=True)\n",
    "\n",
    "# Create zip from address\n",
    "df['zip'] = [x.split(',')[2][-5:] for x in df['address']] \n",
    "\n",
    "#https://www.zillow.com/browse/homes/wa/king-county/  - remove all records with zipcodes that dont start with '98'\n",
    "df = df[df.zip.str.startswith(('98'))]\n",
    "\n",
    "df['city'] = [x.split(',')[1][0:] for x in df['address']]\n",
    "\n",
    "#create sale year column from datetime date info\n",
    "df['sale_year'] = pd.DatetimeIndex(df['date']).year.astype(int)\n",
    "\n",
    "df['sale_year'].value_counts()\n",
    "\n",
    "\n",
    "#create new column - age of house\n",
    "df['home_age'] = (df['sale_year']+1) - df['yr_built']\n",
    "\n",
    "#create new column - time since reno\n",
    "df['yr_from_reno'] = (df['sale_year']+1) - df['yr_renovated']\n",
    "\n",
    "# create filter for yr_from_reno to ID houses that haven't been renovated\n",
    "reno_filter = df['yr_from_reno'] > 2000\n",
    "\n",
    "# create new column for design_age to see time since build if no reno, or time since reno if renovated\n",
    "# first set to reno age\n",
    "df['design_age'] = df['yr_from_reno']\n",
    "#then update columns where there was no reno to age of the home\n",
    "df['design_age'].loc[reno_filter] = df['home_age']\n",
    "\n",
    "#some houses were sold before they were built - we need to change those records to 0\n",
    "\n",
    "prebuild_filter = df['design_age'] < 1\n",
    "\n",
    "df['design_age'].loc[prebuild_filter] = 1\n",
    "\n",
    "\n",
    "grade_cat = df[['grade']]\n",
    "grade_categories = ['1 Cabin', '2 Substandard', '3 Poor', '4 Low', '5 Fair', '6 Low Average',\n",
    "                    '7 Average', '8 Good', '9 Better', '10 Very Good', '11 Excellent', '12 Luxury', '13 Mansion']\n",
    "encoder_grade = OrdinalEncoder(categories=[grade_categories])\n",
    "encoder_grade.fit(grade_cat)\n",
    "grade_encoded_train = encoder_grade.transform(grade_cat)\n",
    "grade_encoded_train = grade_encoded_train.flatten()\n",
    "df[\"grade\"] = grade_encoded_train"
   ]
  },
  {
   "cell_type": "code",
   "execution_count": 3,
   "metadata": {},
   "outputs": [],
   "source": [
    "# Update df to only include homes tham meet minimum code requirements - Average construction grade + design\n",
    "# Finish work is 'better' and 'more' design quality\n",
    "\n",
    "grade_filter1 = df[\"grade\"] > 5 \n",
    "grade_filter2 = df[\"grade\"] < 11\n",
    "\n",
    "df = df.loc[grade_filter1 & grade_filter2]"
   ]
  },
  {
   "cell_type": "code",
   "execution_count": 4,
   "metadata": {},
   "outputs": [],
   "source": [
    "# Update df to only include cities with 30+ homes accounted for\n",
    "df_city = df.groupby('city').count()['price'].reset_index()\n",
    "city_columns = df_city[ df_city['price'] >= 30 ].transpose()\n",
    "city_columns.columns = city_columns.iloc[0]\n",
    "# len(city_columns.columns)\n",
    "\n",
    "drop_city = df.groupby('city').count()['price'].reset_index()\n",
    "drop_city_columns = drop_city[ drop_city['price'] < 30 ].transpose()\n",
    "drop_city_columns.columns = drop_city_columns.iloc[0]\n",
    "drop_city_columns.columns\n",
    "\n",
    "drop_city = list(drop_city_columns.columns)\n",
    "\n",
    "for city in drop_city:\n",
    "    df = df[~df.city.str.contains(city)]"
   ]
  },
  {
   "cell_type": "code",
   "execution_count": 5,
   "metadata": {},
   "outputs": [],
   "source": [
    "# Update df to only include homes with living_sqft > 1100\n",
    "# Accounts for 360sqft garage\n",
    "\n",
    "sqft_filter1 = df[\"sqft_living\"] > 1100\n",
    "df = df.loc[sqft_filter1]"
   ]
  },
  {
   "cell_type": "code",
   "execution_count": 6,
   "metadata": {},
   "outputs": [
    {
     "name": "stderr",
     "output_type": "stream",
     "text": [
      "C:\\Users\\mitch\\anaconda3\\envs\\learn-env\\lib\\site-packages\\pandas\\core\\indexing.py:1765: SettingWithCopyWarning: \n",
      "A value is trying to be set on a copy of a slice from a DataFrame.\n",
      "Try using .loc[row_indexer,col_indexer] = value instead\n",
      "\n",
      "See the caveats in the documentation: https://pandas.pydata.org/pandas-docs/stable/user_guide/indexing.html#returning-a-view-versus-a-copy\n",
      "  isetter(loc, value)\n",
      "<ipython-input-6-e208c5ee3da5>:10: SettingWithCopyWarning: \n",
      "A value is trying to be set on a copy of a slice from a DataFrame.\n",
      "Try using .loc[row_indexer,col_indexer] = value instead\n",
      "\n",
      "See the caveats in the documentation: https://pandas.pydata.org/pandas-docs/stable/user_guide/indexing.html#returning-a-view-versus-a-copy\n",
      "  X_train['bathrooms'] = X_train['bathrooms'].apply(np.ceil)\n",
      "<ipython-input-6-e208c5ee3da5>:14: SettingWithCopyWarning: \n",
      "A value is trying to be set on a copy of a slice from a DataFrame.\n",
      "Try using .loc[row_indexer,col_indexer] = value instead\n",
      "\n",
      "See the caveats in the documentation: https://pandas.pydata.org/pandas-docs/stable/user_guide/indexing.html#returning-a-view-versus-a-copy\n",
      "  X_train['basement_binary'] = [1 if sq >  0  else 0 for sq in X_train['sqft_basement']]\n",
      "<ipython-input-6-e208c5ee3da5>:15: SettingWithCopyWarning: \n",
      "A value is trying to be set on a copy of a slice from a DataFrame.\n",
      "Try using .loc[row_indexer,col_indexer] = value instead\n",
      "\n",
      "See the caveats in the documentation: https://pandas.pydata.org/pandas-docs/stable/user_guide/indexing.html#returning-a-view-versus-a-copy\n",
      "  X_train['garage_binary'] = [1 if sq >  0  else 0 for sq in X_train['sqft_garage']]\n",
      "<ipython-input-6-e208c5ee3da5>:16: SettingWithCopyWarning: \n",
      "A value is trying to be set on a copy of a slice from a DataFrame.\n",
      "Try using .loc[row_indexer,col_indexer] = value instead\n",
      "\n",
      "See the caveats in the documentation: https://pandas.pydata.org/pandas-docs/stable/user_guide/indexing.html#returning-a-view-versus-a-copy\n",
      "  X_train['patio_binary'] = [1 if sq >  0  else 0 for sq in X_train['sqft_patio']]\n",
      "<ipython-input-6-e208c5ee3da5>:17: SettingWithCopyWarning: \n",
      "A value is trying to be set on a copy of a slice from a DataFrame.\n",
      "Try using .loc[row_indexer,col_indexer] = value instead\n",
      "\n",
      "See the caveats in the documentation: https://pandas.pydata.org/pandas-docs/stable/user_guide/indexing.html#returning-a-view-versus-a-copy\n",
      "  X_train['waterfront_binary'] = [1 if sq == 'YES'  else 0 for sq in X_train['waterfront']]\n",
      "<ipython-input-6-e208c5ee3da5>:18: SettingWithCopyWarning: \n",
      "A value is trying to be set on a copy of a slice from a DataFrame.\n",
      "Try using .loc[row_indexer,col_indexer] = value instead\n",
      "\n",
      "See the caveats in the documentation: https://pandas.pydata.org/pandas-docs/stable/user_guide/indexing.html#returning-a-view-versus-a-copy\n",
      "  X_train['PublicSewer_binary'] = [1 if sq == 'PUBLIC' else 0 for sq in X_train['sewer_system']]\n",
      "<ipython-input-6-e208c5ee3da5>:19: SettingWithCopyWarning: \n",
      "A value is trying to be set on a copy of a slice from a DataFrame.\n",
      "Try using .loc[row_indexer,col_indexer] = value instead\n",
      "\n",
      "See the caveats in the documentation: https://pandas.pydata.org/pandas-docs/stable/user_guide/indexing.html#returning-a-view-versus-a-copy\n",
      "  X_train['yrenovated_binary'] = [1 if sq >  0 else 0 for sq in X_train['yr_renovated']]\n",
      "<ipython-input-6-e208c5ee3da5>:31: SettingWithCopyWarning: \n",
      "A value is trying to be set on a copy of a slice from a DataFrame.\n",
      "Try using .loc[row_indexer,col_indexer] = value instead\n",
      "\n",
      "See the caveats in the documentation: https://pandas.pydata.org/pandas-docs/stable/user_guide/indexing.html#returning-a-view-versus-a-copy\n",
      "  X_train[\"greenbelt\"] = greenbelt_encoded_train\n",
      "<ipython-input-6-e208c5ee3da5>:38: SettingWithCopyWarning: \n",
      "A value is trying to be set on a copy of a slice from a DataFrame.\n",
      "Try using .loc[row_indexer,col_indexer] = value instead\n",
      "\n",
      "See the caveats in the documentation: https://pandas.pydata.org/pandas-docs/stable/user_guide/indexing.html#returning-a-view-versus-a-copy\n",
      "  X_train[\"nuisance\"] = nuisance_encoded_train\n",
      "<ipython-input-6-e208c5ee3da5>:48: SettingWithCopyWarning: \n",
      "A value is trying to be set on a copy of a slice from a DataFrame.\n",
      "Try using .loc[row_indexer,col_indexer] = value instead\n",
      "\n",
      "See the caveats in the documentation: https://pandas.pydata.org/pandas-docs/stable/user_guide/indexing.html#returning-a-view-versus-a-copy\n",
      "  X_train[\"condition\"] = condition_encoded_train\n",
      "<ipython-input-6-e208c5ee3da5>:58: SettingWithCopyWarning: \n",
      "A value is trying to be set on a copy of a slice from a DataFrame.\n",
      "Try using .loc[row_indexer,col_indexer] = value instead\n",
      "\n",
      "See the caveats in the documentation: https://pandas.pydata.org/pandas-docs/stable/user_guide/indexing.html#returning-a-view-versus-a-copy\n",
      "  X_train[\"view\"] = view_encoded_train\n",
      "C:\\Users\\mitch\\anaconda3\\envs\\learn-env\\lib\\site-packages\\pandas\\core\\frame.py:4163: SettingWithCopyWarning: \n",
      "A value is trying to be set on a copy of a slice from a DataFrame\n",
      "\n",
      "See the caveats in the documentation: https://pandas.pydata.org/pandas-docs/stable/user_guide/indexing.html#returning-a-view-versus-a-copy\n",
      "  return super().drop(\n"
     ]
    }
   ],
   "source": [
    "# Setup X_train, y_train: apply onehotencoder, ordinalencoder, binary transformations\n",
    "\n",
    "y = df[\"price\"]\n",
    "X = df.drop(\"price\", axis=1)\n",
    "\n",
    "X_train, X_test, y_train, y_test = train_test_split(X, y, random_state=43)\n",
    "\n",
    "# Quasi-categorical(0.5 + 0.5 bathrooms != 1 bathroom). Change 0 bathroom to 1 bathroom. Round up other values.\n",
    "X_train.loc[X_train['bathrooms'] == 0, 'bathrooms'] = 1\n",
    "X_train['bathrooms'] = X_train['bathrooms'].apply(np.ceil)\n",
    "\n",
    "\n",
    "# Create binary substitutes for columns\n",
    "X_train['basement_binary'] = [1 if sq >  0  else 0 for sq in X_train['sqft_basement']]\n",
    "X_train['garage_binary'] = [1 if sq >  0  else 0 for sq in X_train['sqft_garage']]\n",
    "X_train['patio_binary'] = [1 if sq >  0  else 0 for sq in X_train['sqft_patio']]\n",
    "X_train['waterfront_binary'] = [1 if sq == 'YES'  else 0 for sq in X_train['waterfront']]\n",
    "X_train['PublicSewer_binary'] = [1 if sq == 'PUBLIC' else 0 for sq in X_train['sewer_system']]\n",
    "X_train['yrenovated_binary'] = [1 if sq >  0 else 0 for sq in X_train['yr_renovated']]\n",
    "\n",
    "\n",
    "# Create binary values for greenbelt, nuisance\n",
    "# Using OneHotEncoder\n",
    "\n",
    "greenbelt_cat = X_train[['greenbelt']]\n",
    "encoder_greenbelt = OrdinalEncoder(categories=[['NO', 'YES']])\n",
    "encoder_greenbelt.fit(greenbelt_cat)\n",
    "greenbelt_encoded_train = encoder_greenbelt.transform(greenbelt_cat)\n",
    "greenbelt_encoded_train = greenbelt_encoded_train.flatten()\n",
    "# greenbelt_encoded_train\n",
    "X_train[\"greenbelt\"] = greenbelt_encoded_train\n",
    "\n",
    "nuisance_cat = X_train[['nuisance']]\n",
    "encoder_nuisance = OrdinalEncoder()\n",
    "encoder_nuisance.fit(nuisance_cat)\n",
    "nuisance_encoded_train = encoder_nuisance.transform(nuisance_cat)\n",
    "nuisance_encoded_train = nuisance_encoded_train.flatten()\n",
    "X_train[\"nuisance\"] = nuisance_encoded_train\n",
    "\n",
    "# Create Ordinal Values for condition\n",
    "# Using OneHotEncoder\n",
    "condition_cat = X_train[['condition']]\n",
    "condition_categories = ['Poor', 'Fair', 'Average', 'Good', 'Very Good']\n",
    "encoder_condition = OrdinalEncoder(categories=[condition_categories])\n",
    "encoder_condition.fit(condition_cat)\n",
    "condition_encoded_train = encoder_condition.transform(condition_cat)\n",
    "condition_encoded_train = condition_encoded_train.flatten()\n",
    "X_train[\"condition\"] = condition_encoded_train\n",
    "\n",
    "# Create Ordinal Values for view\n",
    "# Using OneHotEncoder\n",
    "view_cat = X_train[['view']]\n",
    "view_categories = ['NONE', 'FAIR', 'AVERAGE', 'GOOD', 'EXCELLENT']\n",
    "encoder_view = OrdinalEncoder(categories=[view_categories])\n",
    "encoder_view.fit(view_cat)\n",
    "view_encoded_train = encoder_view.transform(view_cat)\n",
    "view_encoded_train = view_encoded_train.flatten()\n",
    "X_train[\"view\"] = view_encoded_train\n",
    "\n",
    "\n",
    "# (1) Create a variable zip\n",
    "# extracted from df\n",
    "# (double brackets due to shape expected by OHE)\n",
    "city_train = X_train[[\"city\"]]\n",
    "\n",
    "ohe_city = OneHotEncoder(categories=\"auto\",\n",
    "                    sparse=False,\n",
    "                    handle_unknown=\"ignore\")\n",
    "\n",
    "# (3) Fit the encoder on fireplace_qu_train\n",
    "ohe_city.fit(city_train)\n",
    "\n",
    "# (2) Instantiate a OneHotEncoder with categories=\"auto\",\n",
    "# sparse=False, and handle_unknown=\"ignore\"\n",
    "city_encoded_train = ohe_city.transform(city_train)\n",
    "\n",
    "# Visually inspect fireplace_qu_encoded_train\n",
    "city_encoded_train\n",
    "\n",
    "# (5a) Make the transformed data into a dataframe\n",
    "city_encoded_train = pd.DataFrame(\n",
    "    # Pass in NumPy array\n",
    "    city_encoded_train,\n",
    "    # Set the column names to the categories found by OHE\n",
    "    columns=ohe_city.categories_[0],\n",
    "    # Set the index to match X_test's index\n",
    "    index=X_train.index\n",
    ")\n",
    "\n",
    "# Run this cell without changes\n",
    "\n",
    "# (5b) Drop original FireplaceQu column\n",
    "X_train.drop(\"city\", axis=1, inplace=True)\n",
    "\n",
    "# Run this cell without changes\n",
    "\n",
    "# (5c) Concatenate the new dataframe with current X_train\n",
    "X_train = pd.concat([X_train, city_encoded_train], axis=1)\n",
    "\n",
    "# Visually inspect X_train\n",
    "X_train.head()\n",
    "\n",
    "# (1) Create a variable zip\n",
    "# extracted from df\n",
    "# (double brackets due to shape expected by OHE)\n",
    "fireplace_qu_train = X_train[[\"zip\"]]\n",
    "\n",
    "# (2) Instantiate a OneHotEncoder with categories=\"auto\",\n",
    "# sparse=False, and handle_unknown=\"ignore\"\n",
    "ohe_zip = OneHotEncoder(categories=\"auto\",\n",
    "                    sparse=False,\n",
    "                    handle_unknown=\"ignore\")\n",
    "\n",
    "# (3) Fit the encoder on fireplace_qu_train\n",
    "ohe_zip.fit(fireplace_qu_train)\n",
    "\n",
    "# Inspect the categories of the fitted encoder\n",
    "ohe_zip.categories_\n",
    "\n",
    "# Replace None with appropriate code\n",
    "\n",
    "# (4) Transform fireplace_qu_train using the encoder and\n",
    "# assign the result to fireplace_qu_encoded_train\n",
    "fireplace_qu_encoded_train = ohe_zip.transform(fireplace_qu_train)\n",
    "\n",
    "# Visually inspect fireplace_qu_encoded_train\n",
    "fireplace_qu_encoded_train\n",
    "\n",
    "# Run this cell without changes\n",
    "\n",
    "# (5a) Make the transformed data into a dataframe\n",
    "fireplace_qu_encoded_train = pd.DataFrame(\n",
    "    # Pass in NumPy array\n",
    "    fireplace_qu_encoded_train,\n",
    "    # Set the column names to the categories found by OHE\n",
    "    columns=ohe_zip.categories_[0],\n",
    "    # Set the index to match X_train's index\n",
    "    index=X_train.index\n",
    ")\n",
    "\n",
    "# Visually inspect new dataframe\n",
    "fireplace_qu_encoded_train\n",
    "\n",
    "# Run this cell without changes\n",
    "\n",
    "# (5b) Drop original FireplaceQu column\n",
    "X_train.drop(\"zip\", axis=1, inplace=True)\n",
    "\n",
    "# Visually inspect X_train\n",
    "\n",
    "# Run this cell without changes\n",
    "\n",
    "# (5c) Concatenate the new dataframe with current X_train\n",
    "X_train = pd.concat([X_train, fireplace_qu_encoded_train], axis=1)\n",
    "\n",
    "# Visually inspect X_train\n",
    "X_train.head()\n",
    "\n",
    "# Create 'total_sqft' by combining sqft_above + sqft_basement + \n",
    "# sqft_garage + sqft_patio\n",
    "X_train['total_sqft'] = X_train['sqft_above'] + X_train['sqft_basement'] + X_train['sqft_garage'] + X_train['sqft_patio']\n",
    "\n",
    "X_train['weighted__livsqft'] = X_train['sqft_living'] * X_train['grade']\n",
    "\n",
    "X_train['date'] = pd.to_datetime(X_train['date'], format='%Y-%m-%d')\n",
    "\n",
    "X_train['date'].head()\n",
    "\n",
    "#create sale year column from datetime date info\n",
    "X_train['sale_year'] = pd.DatetimeIndex(X_train['date']).year.astype(int)\n",
    "\n",
    "X_train['sale_year'].value_counts()\n",
    "\n",
    "#Binning by decade\n",
    "\n",
    "X_train['design_decade'] = pd.cut(x=X_train['design_age'], bins=[0, 3, 13, 23, 33, 43, 53, 63, 73,\n",
    "                                                         83, 93, 103, 113, 123],\n",
    "                    labels=['2020s', '2010s', '2000s', '1990s', '1980s', '1970s', '1960s',\n",
    "                            '1950s', '1940s', '1930s', '1920s', '1910s', '1900s'])\n",
    "\n",
    "X_train.design_decade.value_counts()\n",
    "\n",
    "labels_ordered = ['2020s', '2010s', '2000s', '1990s', '1980s', '1970s', '1960s','1950s', '1940s', '1930s', '1920s', '1910s', '1900s']\n",
    "\n",
    "labels_ordered.reverse()\n",
    "\n",
    "labels_ordered\n",
    "\n",
    "# Create Ordinal Values for view\n",
    "# Using OneHotEncoder\n",
    "age_cat = X_train[['design_decade']]\n",
    "age_categories = labels_ordered\n",
    "encoder_age = OrdinalEncoder(categories=[age_categories])\n",
    "encoder_age.fit(age_cat)\n",
    "encoder_age.categories_[0]\n",
    "\n",
    "age_encoded_train = encoder_age.transform(age_cat)\n",
    "age_encoded_train = age_encoded_train.flatten()\n",
    "X_train[\"design_decade\"] = age_encoded_train\n",
    "\n",
    "X_train[\"design_decade\"]\n",
    "\n",
    "X_train['yard_size_ratio'] = (X_train['total_sqft'] / X_train['sqft_lot']) * 100\n",
    "\n",
    "# list(X_train.columns)"
   ]
  },
  {
   "cell_type": "code",
   "execution_count": 7,
   "metadata": {},
   "outputs": [],
   "source": [
    "# Create additional engineered variables\n",
    "\n",
    "X_train['view_grade'] = (X_train['view'] + 1) * X_train['grade']\n",
    "X_train['waterfront_grade'] = (X_train['waterfront_binary'] + 1)  * X_train['grade']\n",
    "X_train['design_decade_grade'] = (X_train['design_decade'] + 1)  * X_train['grade']\n",
    "X_train['nuisance_grade'] = (X_train['nuisance'] + 1)  * X_train['grade']\n",
    "X_train['garage_binary_grade'] = (X_train['garage_binary'] + 1)  * X_train['grade']\n",
    "X_train['basement_binary_grade'] = (X_train['basement_binary'] + 1)  * X_train['grade']\n",
    "X_train['patio_binary_grade'] = (X_train['patio_binary'] + 1)  * X_train['grade']\n",
    "X_train['PublicSewer_binary_grade'] = (X_train['PublicSewer_binary'] + 1)  * X_train['grade']\n",
    "X_train['condition_grade'] = (X_train['condition'] + 1)  * X_train['grade']\n",
    "\n"
   ]
  },
  {
   "cell_type": "code",
   "execution_count": 8,
   "metadata": {},
   "outputs": [],
   "source": [
    "relevant = [' Auburn', ' Bellevue', ' Black Diamond', ' Bothell', ' Burien',\n",
    "           ' Carnation', ' Clyde Hill', ' Covington', ' Des Moines', ' Duvall',\n",
    "           ' Enumclaw', ' Fall City', ' Federal Way', ' Issaquah', ' Kenmore',\n",
    "           ' Kent', ' Kirkland', ' Lake Forest Park', ' Maple Valley', ' Medina',\n",
    "           ' Mercer Island', ' Newcastle', ' Normandy Park', ' North Bend',\n",
    "           ' Pacific', ' Ravensdale', ' Redmond', ' Renton', ' Sammamish',\n",
    "           ' SeaTac', ' Seattle', ' Shoreline', ' Snoqualmie', ' Tukwila',\n",
    "           ' Vashon', ' Woodinville',\n",
    "            'weighted__livsqft', 'yard_size_ratio', 'view_grade',\n",
    "            'waterfront_grade', 'design_decade_grade', 'nuisance_grade', 'garage_binary_grade',\n",
    "            'basement_binary_grade', 'patio_binary_grade', 'PublicSewer_binary_grade', 'condition_grade']\n",
    "# Removed design_decade\n",
    "\n",
    "X_train = X_train[relevant]"
   ]
  },
  {
   "cell_type": "markdown",
   "metadata": {},
   "source": [
    "#### Look at each independent/dependent variable to see if it looks better before/after log transform.\n",
    "\n",
    "We saw that our data wasn't considered to be normally distributed based on our discovery from LInRegAssumptionsV2"
   ]
  },
  {
   "cell_type": "code",
   "execution_count": 11,
   "metadata": {},
   "outputs": [
    {
     "data": {
      "text/plain": [
       "7367      889500.0\n",
       "21895     790632.0\n",
       "15100     585000.0\n",
       "19938     860000.0\n",
       "7386     1270000.0\n",
       "           ...    \n",
       "22895    1230000.0\n",
       "9888     3750000.0\n",
       "23194    1925000.0\n",
       "24565    1250000.0\n",
       "17562     565000.0\n",
       "Name: price, Length: 18192, dtype: float64"
      ]
     },
     "execution_count": 11,
     "metadata": {},
     "output_type": "execute_result"
    }
   ],
   "source": [
    "y_train"
   ]
  },
  {
   "cell_type": "code",
   "execution_count": 18,
   "metadata": {},
   "outputs": [
    {
     "data": {
      "image/png": "[encoded data removed]",
      "text/plain": [
       "<Figure size 648x360 with 2 Axes>"
      ]
     },
     "metadata": {
      "needs_background": "light"
     },
     "output_type": "display_data"
    }
   ],
   "source": [
    "# Price\n",
    "fig, ax = plt.subplots(1, 2, figsize = (9,5))\n",
    "\n",
    "\n",
    "y_train.hist(bins=200, ax=ax[0])\n",
    "ax[0].ticklabel_format(style='plain')\n",
    "# ax[0].xlabel('Price')\n",
    "# ax[0].title('Distribution of prices')\n",
    "# ax[0].ylabel('Number of houses')\n",
    "ax[0].set_title('Distribution of prices')\n",
    "ax[0].set(xlabel='Price', ylabel='Distribution');\n",
    "\n",
    "\n",
    "y_train_log = np.log(y_train)\n",
    "y_train_log.hist(bins=200, ax=ax[1])\n",
    "ax[1].ticklabel_format(style='plain')\n",
    "# ax[1].xlabel('Log(Price)')\n",
    "# ax[1].title('Distribution of prices')\n",
    "# ax[1].ylabel('Number of houses')\n",
    "ax[1].set_title('Distribution of prices')\n",
    "ax[1].set(xlabel='Price', ylabel='Distribution');\n",
    "fig.tight_layout()\n",
    "plt.show();"
   ]
  },
  {
   "cell_type": "code",
   "execution_count": 19,
   "metadata": {},
   "outputs": [],
   "source": [
    "# We can see that transforming prices by applying a log transform makes the data more normal.\n",
    "# Will apply this and see if it improves the below\n",
    "y_train = y_train_log"
   ]
  },
  {
   "cell_type": "code",
   "execution_count": null,
   "metadata": {},
   "outputs": [],
   "source": []
  },
  {
   "cell_type": "code",
   "execution_count": null,
   "metadata": {},
   "outputs": [],
   "source": []
  },
  {
   "cell_type": "code",
   "execution_count": null,
   "metadata": {},
   "outputs": [],
   "source": []
  },
  {
   "cell_type": "code",
   "execution_count": null,
   "metadata": {},
   "outputs": [],
   "source": []
  },
  {
   "cell_type": "code",
   "execution_count": null,
   "metadata": {},
   "outputs": [],
   "source": []
  },
  {
   "cell_type": "code",
   "execution_count": null,
   "metadata": {},
   "outputs": [],
   "source": []
  },
  {
   "cell_type": "code",
   "execution_count": null,
   "metadata": {},
   "outputs": [],
   "source": []
  },
  {
   "cell_type": "code",
   "execution_count": 20,
   "metadata": {},
   "outputs": [
    {
     "data": {
      "text/html": [
       "<table class=\"simpletable\">\n",
       "<caption>OLS Regression Results</caption>\n",
       "<tr>\n",
       "  <th>Dep. Variable:</th>          <td>price</td>      <th>  R-squared:         </th> <td>   0.658</td> \n",
       "</tr>\n",
       "<tr>\n",
       "  <th>Model:</th>                   <td>OLS</td>       <th>  Adj. R-squared:    </th> <td>   0.658</td> \n",
       "</tr>\n",
       "<tr>\n",
       "  <th>Method:</th>             <td>Least Squares</td>  <th>  F-statistic:       </th> <td>   760.6</td> \n",
       "</tr>\n",
       "<tr>\n",
       "  <th>Date:</th>             <td>Thu, 04 Aug 2022</td> <th>  Prob (F-statistic):</th>  <td>  0.00</td>  \n",
       "</tr>\n",
       "<tr>\n",
       "  <th>Time:</th>                 <td>07:29:51</td>     <th>  Log-Likelihood:    </th> <td> -5209.0</td> \n",
       "</tr>\n",
       "<tr>\n",
       "  <th>No. Observations:</th>      <td> 18192</td>      <th>  AIC:               </th> <td>1.051e+04</td>\n",
       "</tr>\n",
       "<tr>\n",
       "  <th>Df Residuals:</th>          <td> 18145</td>      <th>  BIC:               </th> <td>1.088e+04</td>\n",
       "</tr>\n",
       "<tr>\n",
       "  <th>Df Model:</th>              <td>    46</td>      <th>                     </th>     <td> </td>    \n",
       "</tr>\n",
       "<tr>\n",
       "  <th>Covariance Type:</th>      <td>nonrobust</td>    <th>                     </th>     <td> </td>    \n",
       "</tr>\n",
       "</table>\n",
       "<table class=\"simpletable\">\n",
       "<tr>\n",
       "              <td></td>                <th>coef</th>     <th>std err</th>      <th>t</th>      <th>P>|t|</th>  <th>[0.025</th>    <th>0.975]</th>  \n",
       "</tr>\n",
       "<tr>\n",
       "  <th>const</th>                    <td>   12.4916</td> <td>    0.019</td> <td>  646.063</td> <td> 0.000</td> <td>   12.454</td> <td>   12.529</td>\n",
       "</tr>\n",
       "<tr>\n",
       "  <th> Auburn</th>                  <td>   -0.0598</td> <td>    0.011</td> <td>   -5.299</td> <td> 0.000</td> <td>   -0.082</td> <td>   -0.038</td>\n",
       "</tr>\n",
       "<tr>\n",
       "  <th> Bellevue</th>                <td>    0.7411</td> <td>    0.011</td> <td>   67.259</td> <td> 0.000</td> <td>    0.720</td> <td>    0.763</td>\n",
       "</tr>\n",
       "<tr>\n",
       "  <th> Black Diamond</th>           <td>    0.0697</td> <td>    0.023</td> <td>    2.975</td> <td> 0.003</td> <td>    0.024</td> <td>    0.116</td>\n",
       "</tr>\n",
       "<tr>\n",
       "  <th> Bothell</th>                 <td>    0.5210</td> <td>    0.022</td> <td>   23.177</td> <td> 0.000</td> <td>    0.477</td> <td>    0.565</td>\n",
       "</tr>\n",
       "<tr>\n",
       "  <th> Burien</th>                  <td>    0.1140</td> <td>    0.019</td> <td>    5.905</td> <td> 0.000</td> <td>    0.076</td> <td>    0.152</td>\n",
       "</tr>\n",
       "<tr>\n",
       "  <th> Carnation</th>               <td>    0.2957</td> <td>    0.032</td> <td>    9.128</td> <td> 0.000</td> <td>    0.232</td> <td>    0.359</td>\n",
       "</tr>\n",
       "<tr>\n",
       "  <th> Clyde Hill</th>              <td>    1.1485</td> <td>    0.047</td> <td>   24.213</td> <td> 0.000</td> <td>    1.056</td> <td>    1.241</td>\n",
       "</tr>\n",
       "<tr>\n",
       "  <th> Covington</th>               <td>    0.0292</td> <td>    0.019</td> <td>    1.556</td> <td> 0.120</td> <td>   -0.008</td> <td>    0.066</td>\n",
       "</tr>\n",
       "<tr>\n",
       "  <th> Des Moines</th>              <td>   -0.0127</td> <td>    0.020</td> <td>   -0.627</td> <td> 0.531</td> <td>   -0.053</td> <td>    0.027</td>\n",
       "</tr>\n",
       "<tr>\n",
       "  <th> Duvall</th>                  <td>    0.2903</td> <td>    0.024</td> <td>   11.970</td> <td> 0.000</td> <td>    0.243</td> <td>    0.338</td>\n",
       "</tr>\n",
       "<tr>\n",
       "  <th> Enumclaw</th>                <td>   -0.0287</td> <td>    0.020</td> <td>   -1.416</td> <td> 0.157</td> <td>   -0.069</td> <td>    0.011</td>\n",
       "</tr>\n",
       "<tr>\n",
       "  <th> Fall City</th>               <td>    0.5188</td> <td>    0.039</td> <td>   13.269</td> <td> 0.000</td> <td>    0.442</td> <td>    0.595</td>\n",
       "</tr>\n",
       "<tr>\n",
       "  <th> Federal Way</th>             <td>   -0.1126</td> <td>    0.012</td> <td>   -9.107</td> <td> 0.000</td> <td>   -0.137</td> <td>   -0.088</td>\n",
       "</tr>\n",
       "<tr>\n",
       "  <th> Issaquah</th>                <td>    0.5399</td> <td>    0.017</td> <td>   31.780</td> <td> 0.000</td> <td>    0.507</td> <td>    0.573</td>\n",
       "</tr>\n",
       "<tr>\n",
       "  <th> Kenmore</th>                 <td>    0.4055</td> <td>    0.021</td> <td>   19.657</td> <td> 0.000</td> <td>    0.365</td> <td>    0.446</td>\n",
       "</tr>\n",
       "<tr>\n",
       "  <th> Kent</th>                    <td>   -0.0280</td> <td>    0.011</td> <td>   -2.614</td> <td> 0.009</td> <td>   -0.049</td> <td>   -0.007</td>\n",
       "</tr>\n",
       "<tr>\n",
       "  <th> Kirkland</th>                <td>    0.7256</td> <td>    0.012</td> <td>   62.483</td> <td> 0.000</td> <td>    0.703</td> <td>    0.748</td>\n",
       "</tr>\n",
       "<tr>\n",
       "  <th> Lake Forest Park</th>        <td>    0.4158</td> <td>    0.025</td> <td>   16.439</td> <td> 0.000</td> <td>    0.366</td> <td>    0.465</td>\n",
       "</tr>\n",
       "<tr>\n",
       "  <th> Maple Valley</th>            <td>    0.1548</td> <td>    0.013</td> <td>   11.470</td> <td> 0.000</td> <td>    0.128</td> <td>    0.181</td>\n",
       "</tr>\n",
       "<tr>\n",
       "  <th> Medina</th>                  <td>    1.2695</td> <td>    0.059</td> <td>   21.643</td> <td> 0.000</td> <td>    1.155</td> <td>    1.384</td>\n",
       "</tr>\n",
       "<tr>\n",
       "  <th> Mercer Island</th>           <td>    0.7779</td> <td>    0.021</td> <td>   37.131</td> <td> 0.000</td> <td>    0.737</td> <td>    0.819</td>\n",
       "</tr>\n",
       "<tr>\n",
       "  <th> Newcastle</th>               <td>    0.4727</td> <td>    0.028</td> <td>   17.115</td> <td> 0.000</td> <td>    0.419</td> <td>    0.527</td>\n",
       "</tr>\n",
       "<tr>\n",
       "  <th> Normandy Park</th>           <td>    0.2332</td> <td>    0.037</td> <td>    6.323</td> <td> 0.000</td> <td>    0.161</td> <td>    0.306</td>\n",
       "</tr>\n",
       "<tr>\n",
       "  <th> North Bend</th>              <td>    0.3210</td> <td>    0.018</td> <td>   17.514</td> <td> 0.000</td> <td>    0.285</td> <td>    0.357</td>\n",
       "</tr>\n",
       "<tr>\n",
       "  <th> Pacific</th>                 <td>   -0.1185</td> <td>    0.047</td> <td>   -2.543</td> <td> 0.011</td> <td>   -0.210</td> <td>   -0.027</td>\n",
       "</tr>\n",
       "<tr>\n",
       "  <th> Ravensdale</th>              <td>    0.2108</td> <td>    0.050</td> <td>    4.199</td> <td> 0.000</td> <td>    0.112</td> <td>    0.309</td>\n",
       "</tr>\n",
       "<tr>\n",
       "  <th> Redmond</th>                 <td>    0.6657</td> <td>    0.013</td> <td>   51.802</td> <td> 0.000</td> <td>    0.641</td> <td>    0.691</td>\n",
       "</tr>\n",
       "<tr>\n",
       "  <th> Renton</th>                  <td>    0.1712</td> <td>    0.010</td> <td>   16.701</td> <td> 0.000</td> <td>    0.151</td> <td>    0.191</td>\n",
       "</tr>\n",
       "<tr>\n",
       "  <th> Sammamish</th>               <td>    0.6152</td> <td>    0.013</td> <td>   47.841</td> <td> 0.000</td> <td>    0.590</td> <td>    0.640</td>\n",
       "</tr>\n",
       "<tr>\n",
       "  <th> SeaTac</th>                  <td>   -0.0139</td> <td>    0.028</td> <td>   -0.494</td> <td> 0.621</td> <td>   -0.069</td> <td>    0.041</td>\n",
       "</tr>\n",
       "<tr>\n",
       "  <th> Seattle</th>                 <td>    0.4920</td> <td>    0.008</td> <td>   61.209</td> <td> 0.000</td> <td>    0.476</td> <td>    0.508</td>\n",
       "</tr>\n",
       "<tr>\n",
       "  <th> Shoreline</th>               <td>    0.3415</td> <td>    0.016</td> <td>   21.747</td> <td> 0.000</td> <td>    0.311</td> <td>    0.372</td>\n",
       "</tr>\n",
       "<tr>\n",
       "  <th> Snoqualmie</th>              <td>    0.4647</td> <td>    0.023</td> <td>   20.067</td> <td> 0.000</td> <td>    0.419</td> <td>    0.510</td>\n",
       "</tr>\n",
       "<tr>\n",
       "  <th> Tukwila</th>                 <td>    0.0869</td> <td>    0.036</td> <td>    2.409</td> <td> 0.016</td> <td>    0.016</td> <td>    0.158</td>\n",
       "</tr>\n",
       "<tr>\n",
       "  <th> Vashon</th>                  <td>    0.2486</td> <td>    0.033</td> <td>    7.636</td> <td> 0.000</td> <td>    0.185</td> <td>    0.312</td>\n",
       "</tr>\n",
       "<tr>\n",
       "  <th> Woodinville</th>             <td>    0.5252</td> <td>    0.017</td> <td>   31.549</td> <td> 0.000</td> <td>    0.493</td> <td>    0.558</td>\n",
       "</tr>\n",
       "<tr>\n",
       "  <th>weighted__livsqft</th>        <td> 2.551e-05</td> <td> 4.76e-07</td> <td>   53.548</td> <td> 0.000</td> <td> 2.46e-05</td> <td> 2.64e-05</td>\n",
       "</tr>\n",
       "<tr>\n",
       "  <th>yard_size_ratio</th>          <td>   -0.0005</td> <td>  7.8e-05</td> <td>   -6.466</td> <td> 0.000</td> <td>   -0.001</td> <td>   -0.000</td>\n",
       "</tr>\n",
       "<tr>\n",
       "  <th>view_grade</th>               <td>    0.0054</td> <td>    0.000</td> <td>   12.511</td> <td> 0.000</td> <td>    0.005</td> <td>    0.006</td>\n",
       "</tr>\n",
       "<tr>\n",
       "  <th>waterfront_grade</th>         <td>    0.0397</td> <td>    0.003</td> <td>   15.348</td> <td> 0.000</td> <td>    0.035</td> <td>    0.045</td>\n",
       "</tr>\n",
       "<tr>\n",
       "  <th>design_decade_grade</th>      <td>   -0.0005</td> <td>    0.000</td> <td>   -2.686</td> <td> 0.007</td> <td>   -0.001</td> <td>   -0.000</td>\n",
       "</tr>\n",
       "<tr>\n",
       "  <th>nuisance_grade</th>           <td>   -0.0068</td> <td>    0.001</td> <td>   -7.004</td> <td> 0.000</td> <td>   -0.009</td> <td>   -0.005</td>\n",
       "</tr>\n",
       "<tr>\n",
       "  <th>garage_binary_grade</th>      <td>   -0.0014</td> <td>    0.001</td> <td>   -1.467</td> <td> 0.142</td> <td>   -0.003</td> <td>    0.000</td>\n",
       "</tr>\n",
       "<tr>\n",
       "  <th>basement_binary_grade</th>    <td>   -0.0028</td> <td>    0.001</td> <td>   -3.285</td> <td> 0.001</td> <td>   -0.004</td> <td>   -0.001</td>\n",
       "</tr>\n",
       "<tr>\n",
       "  <th>patio_binary_grade</th>       <td>    0.0064</td> <td>    0.001</td> <td>    6.731</td> <td> 0.000</td> <td>    0.005</td> <td>    0.008</td>\n",
       "</tr>\n",
       "<tr>\n",
       "  <th>PublicSewer_binary_grade</th> <td>    0.0053</td> <td>    0.001</td> <td>    4.632</td> <td> 0.000</td> <td>    0.003</td> <td>    0.007</td>\n",
       "</tr>\n",
       "<tr>\n",
       "  <th>condition_grade</th>          <td>    0.0090</td> <td>    0.001</td> <td>   16.368</td> <td> 0.000</td> <td>    0.008</td> <td>    0.010</td>\n",
       "</tr>\n",
       "</table>\n",
       "<table class=\"simpletable\">\n",
       "<tr>\n",
       "  <th>Omnibus:</th>       <td>10556.872</td> <th>  Durbin-Watson:     </th>  <td>   1.992</td> \n",
       "</tr>\n",
       "<tr>\n",
       "  <th>Prob(Omnibus):</th>  <td> 0.000</td>   <th>  Jarque-Bera (JB):  </th> <td>280728.682</td>\n",
       "</tr>\n",
       "<tr>\n",
       "  <th>Skew:</th>           <td>-2.296</td>   <th>  Prob(JB):          </th>  <td>    0.00</td> \n",
       "</tr>\n",
       "<tr>\n",
       "  <th>Kurtosis:</th>       <td>21.689</td>   <th>  Cond. No.          </th>  <td>8.96e+16</td> \n",
       "</tr>\n",
       "</table><br/><br/>Notes:<br/>[1] Standard Errors assume that the covariance matrix of the errors is correctly specified.<br/>[2] The smallest eigenvalue is 7.83e-22. This might indicate that there are<br/>strong multicollinearity problems or that the design matrix is singular."
      ],
      "text/plain": [
       "<class 'statsmodels.iolib.summary.Summary'>\n",
       "\"\"\"\n",
       "                            OLS Regression Results                            \n",
       "==============================================================================\n",
       "Dep. Variable:                  price   R-squared:                       0.658\n",
       "Model:                            OLS   Adj. R-squared:                  0.658\n",
       "Method:                 Least Squares   F-statistic:                     760.6\n",
       "Date:                Thu, 04 Aug 2022   Prob (F-statistic):               0.00\n",
       "Time:                        07:29:51   Log-Likelihood:                -5209.0\n",
       "No. Observations:               18192   AIC:                         1.051e+04\n",
       "Df Residuals:                   18145   BIC:                         1.088e+04\n",
       "Df Model:                          46                                         \n",
       "Covariance Type:            nonrobust                                         \n",
       "============================================================================================\n",
       "                               coef    std err          t      P>|t|      [0.025      0.975]\n",
       "--------------------------------------------------------------------------------------------\n",
       "const                       12.4916      0.019    646.063      0.000      12.454      12.529\n",
       " Auburn                     -0.0598      0.011     -5.299      0.000      -0.082      -0.038\n",
       " Bellevue                    0.7411      0.011     67.259      0.000       0.720       0.763\n",
       " Black Diamond               0.0697      0.023      2.975      0.003       0.024       0.116\n",
       " Bothell                     0.5210      0.022     23.177      0.000       0.477       0.565\n",
       " Burien                      0.1140      0.019      5.905      0.000       0.076       0.152\n",
       " Carnation                   0.2957      0.032      9.128      0.000       0.232       0.359\n",
       " Clyde Hill                  1.1485      0.047     24.213      0.000       1.056       1.241\n",
       " Covington                   0.0292      0.019      1.556      0.120      -0.008       0.066\n",
       " Des Moines                 -0.0127      0.020     -0.627      0.531      -0.053       0.027\n",
       " Duvall                      0.2903      0.024     11.970      0.000       0.243       0.338\n",
       " Enumclaw                   -0.0287      0.020     -1.416      0.157      -0.069       0.011\n",
       " Fall City                   0.5188      0.039     13.269      0.000       0.442       0.595\n",
       " Federal Way                -0.1126      0.012     -9.107      0.000      -0.137      -0.088\n",
       " Issaquah                    0.5399      0.017     31.780      0.000       0.507       0.573\n",
       " Kenmore                     0.4055      0.021     19.657      0.000       0.365       0.446\n",
       " Kent                       -0.0280      0.011     -2.614      0.009      -0.049      -0.007\n",
       " Kirkland                    0.7256      0.012     62.483      0.000       0.703       0.748\n",
       " Lake Forest Park            0.4158      0.025     16.439      0.000       0.366       0.465\n",
       " Maple Valley                0.1548      0.013     11.470      0.000       0.128       0.181\n",
       " Medina                      1.2695      0.059     21.643      0.000       1.155       1.384\n",
       " Mercer Island               0.7779      0.021     37.131      0.000       0.737       0.819\n",
       " Newcastle                   0.4727      0.028     17.115      0.000       0.419       0.527\n",
       " Normandy Park               0.2332      0.037      6.323      0.000       0.161       0.306\n",
       " North Bend                  0.3210      0.018     17.514      0.000       0.285       0.357\n",
       " Pacific                    -0.1185      0.047     -2.543      0.011      -0.210      -0.027\n",
       " Ravensdale                  0.2108      0.050      4.199      0.000       0.112       0.309\n",
       " Redmond                     0.6657      0.013     51.802      0.000       0.641       0.691\n",
       " Renton                      0.1712      0.010     16.701      0.000       0.151       0.191\n",
       " Sammamish                   0.6152      0.013     47.841      0.000       0.590       0.640\n",
       " SeaTac                     -0.0139      0.028     -0.494      0.621      -0.069       0.041\n",
       " Seattle                     0.4920      0.008     61.209      0.000       0.476       0.508\n",
       " Shoreline                   0.3415      0.016     21.747      0.000       0.311       0.372\n",
       " Snoqualmie                  0.4647      0.023     20.067      0.000       0.419       0.510\n",
       " Tukwila                     0.0869      0.036      2.409      0.016       0.016       0.158\n",
       " Vashon                      0.2486      0.033      7.636      0.000       0.185       0.312\n",
       " Woodinville                 0.5252      0.017     31.549      0.000       0.493       0.558\n",
       "weighted__livsqft         2.551e-05   4.76e-07     53.548      0.000    2.46e-05    2.64e-05\n",
       "yard_size_ratio             -0.0005    7.8e-05     -6.466      0.000      -0.001      -0.000\n",
       "view_grade                   0.0054      0.000     12.511      0.000       0.005       0.006\n",
       "waterfront_grade             0.0397      0.003     15.348      0.000       0.035       0.045\n",
       "design_decade_grade         -0.0005      0.000     -2.686      0.007      -0.001      -0.000\n",
       "nuisance_grade              -0.0068      0.001     -7.004      0.000      -0.009      -0.005\n",
       "garage_binary_grade         -0.0014      0.001     -1.467      0.142      -0.003       0.000\n",
       "basement_binary_grade       -0.0028      0.001     -3.285      0.001      -0.004      -0.001\n",
       "patio_binary_grade           0.0064      0.001      6.731      0.000       0.005       0.008\n",
       "PublicSewer_binary_grade     0.0053      0.001      4.632      0.000       0.003       0.007\n",
       "condition_grade              0.0090      0.001     16.368      0.000       0.008       0.010\n",
       "==============================================================================\n",
       "Omnibus:                    10556.872   Durbin-Watson:                   1.992\n",
       "Prob(Omnibus):                  0.000   Jarque-Bera (JB):           280728.682\n",
       "Skew:                          -2.296   Prob(JB):                         0.00\n",
       "Kurtosis:                      21.689   Cond. No.                     8.96e+16\n",
       "==============================================================================\n",
       "\n",
       "Notes:\n",
       "[1] Standard Errors assume that the covariance matrix of the errors is correctly specified.\n",
       "[2] The smallest eigenvalue is 7.83e-22. This might indicate that there are\n",
       "strong multicollinearity problems or that the design matrix is singular.\n",
       "\"\"\""
      ]
     },
     "execution_count": 20,
     "metadata": {},
     "output_type": "execute_result"
    }
   ],
   "source": [
    "model_train = sm.OLS(y_train, sm.add_constant(X_train)).fit()\n",
    "results_train = model_train.summary()\n",
    "results_train"
   ]
  },
  {
   "cell_type": "markdown",
   "metadata": {},
   "source": [
    "# Test for 4 assumptions of linear regression"
   ]
  },
  {
   "cell_type": "markdown",
   "metadata": {},
   "source": [
    "## Linearity"
   ]
  },
  {
   "cell_type": "code",
   "execution_count": 21,
   "metadata": {},
   "outputs": [],
   "source": [
    "fitted_vals = model_train.predict()\n",
    "resids = model_train.resid"
   ]
  },
  {
   "cell_type": "code",
   "execution_count": 22,
   "metadata": {},
   "outputs": [
    {
     "data": {
      "image/png": "[encoded data removed]",
      "text/plain": [
       "<Figure size 432x288 with 2 Axes>"
      ]
     },
     "metadata": {
      "needs_background": "light"
     },
     "output_type": "display_data"
    }
   ],
   "source": [
    "fig, ax = plt.subplots(1,2)\n",
    "\n",
    "sns.regplot(x=fitted_vals, y=y_train, lowess=True, ax=ax[0], line_kws={'color': 'red'})\n",
    "ax[0].set_title('Observed vs. Predicted Values', fontsize=16)\n",
    "ax[0].set(xlabel='Predicted', ylabel='Observed');\n",
    "\n",
    "sns.regplot(x=fitted_vals, y=resids, lowess=True, ax=ax[1], line_kws={'color': 'red'})\n",
    "ax[1].set_title('Residuals vs. Predicted Values', fontsize=16)\n",
    "ax[1].set(xlabel='Predicted', ylabel='Residuals')\n",
    "\n",
    "fig.tight_layout()"
   ]
  },
  {
   "cell_type": "code",
   "execution_count": 23,
   "metadata": {
    "scrolled": true
   },
   "outputs": [
    {
     "data": {
      "image/png": "[encoded data removed]",
      "text/plain": [
       "<Figure size 432x288 with 1 Axes>"
      ]
     },
     "metadata": {
      "needs_background": "light"
     },
     "output_type": "display_data"
    }
   ],
   "source": [
    "fig, ax = plt.subplots()\n",
    "\n",
    "\n",
    "ax.scatter(y_train, model_train.resid)\n",
    "ax.axhline(y=0, color=\"black\")\n",
    "ax.set_xlabel(\"price\")\n",
    "ax.set_ylabel(\"residuals\")\n",
    "ax.set_title(\"Residual Plot\");"
   ]
  },
  {
   "cell_type": "markdown",
   "metadata": {},
   "source": [
    "### Rainbow test"
   ]
  },
  {
   "cell_type": "code",
   "execution_count": 24,
   "metadata": {},
   "outputs": [
    {
     "data": {
      "text/plain": [
       "(0.9949623380053481, 0.5950423369939561)"
      ]
     },
     "execution_count": 24,
     "metadata": {},
     "output_type": "execute_result"
    }
   ],
   "source": [
    "linear_rainbow(model_train)"
   ]
  },
  {
   "cell_type": "markdown",
   "metadata": {},
   "source": [
    "Since the p value is above alpha, we cannot reject the null hypothesis and do so consider the relationship to be linear."
   ]
  },
  {
   "cell_type": "markdown",
   "metadata": {},
   "source": [
    "# Independence"
   ]
  },
  {
   "cell_type": "code",
   "execution_count": 25,
   "metadata": {
    "scrolled": true
   },
   "outputs": [
    {
     "data": {
      "image/png": "[encoded data removed]",
      "text/plain": [
       "<Figure size 432x288 with 2 Axes>"
      ]
     },
     "metadata": {
      "needs_background": "light"
     },
     "output_type": "display_data"
    }
   ],
   "source": [
    "sns.heatmap(X_train.corr(), center=0);"
   ]
  },
  {
   "cell_type": "code",
   "execution_count": 26,
   "metadata": {
    "scrolled": true
   },
   "outputs": [
    {
     "data": {
      "text/html": [
       "<div>\n",
       "<style scoped>\n",
       "    .dataframe tbody tr th:only-of-type {\n",
       "        vertical-align: middle;\n",
       "    }\n",
       "\n",
       "    .dataframe tbody tr th {\n",
       "        vertical-align: top;\n",
       "    }\n",
       "\n",
       "    .dataframe thead th {\n",
       "        text-align: right;\n",
       "    }\n",
       "</style>\n",
       "<table border=\"1\" class=\"dataframe\">\n",
       "  <thead>\n",
       "    <tr style=\"text-align: right;\">\n",
       "      <th></th>\n",
       "      <th>cc</th>\n",
       "    </tr>\n",
       "    <tr>\n",
       "      <th>pairs</th>\n",
       "      <th></th>\n",
       "    </tr>\n",
       "  </thead>\n",
       "  <tbody>\n",
       "  </tbody>\n",
       "</table>\n",
       "</div>"
      ],
      "text/plain": [
       "Empty DataFrame\n",
       "Columns: [cc]\n",
       "Index: []"
      ]
     },
     "execution_count": 26,
     "metadata": {},
     "output_type": "execute_result"
    }
   ],
   "source": [
    "# save absolute value of correlation matrix as a data frame\n",
    "# converts all values to absolute value\n",
    "# stacks the row:column pairs into a multindex\n",
    "# reset the index to set the multindex to seperate columns\n",
    "# sort values. 0 is the column automatically generated by the stacking\n",
    "\n",
    "df_corr=X_train.corr().abs().stack().reset_index().sort_values(0, ascending=False)\n",
    "\n",
    "df_corr\n",
    "\n",
    "# zip the variable name columns (Which were only named level_0 and level_1 by default) in a new column named \"pairs\"\n",
    "df_corr['pairs'] = list(zip(df_corr.level_0, df_corr.level_1))\n",
    "\n",
    "# set index to pairs\n",
    "df_corr.set_index(['pairs'], inplace = True)\n",
    "\n",
    "#d rop level columns\n",
    "df_corr.drop(columns=['level_1', 'level_0'], inplace = True)\n",
    "\n",
    "# rename correlation column as cc rather than 0\n",
    "df_corr.columns = ['cc']\n",
    "\n",
    "# drop duplicates. This could be dangerous if you have variables perfectly correlated with variables other than themselves.\n",
    "# for the sake of exercise, kept it in.\n",
    "df_corr.drop_duplicates(inplace=True)\n",
    "\n",
    "df_corr[(df_corr.cc>.75) & (df_corr.cc <1)]"
   ]
  },
  {
   "cell_type": "markdown",
   "metadata": {
    "scrolled": true
   },
   "source": [
    "We can see there are no collinear factors, so our inputs can be considered to be independent."
   ]
  },
  {
   "cell_type": "markdown",
   "metadata": {},
   "source": [
    "# Normality"
   ]
  },
  {
   "cell_type": "code",
   "execution_count": 27,
   "metadata": {},
   "outputs": [
    {
     "data": {
      "image/png": "[encoded data removed]",
      "text/plain": [
       "<Figure size 432x288 with 1 Axes>"
      ]
     },
     "metadata": {
      "needs_background": "light"
     },
     "output_type": "display_data"
    }
   ],
   "source": [
    "# Histogram of residuals\n",
    "fig, ax = plt.subplots()\n",
    "sns.histplot(model_train.resid, bins=200, element=\"step\", kde=True, ax=ax)\n",
    "ax.set_xlabel(\"Model Residuals\")\n",
    "fig.suptitle(\"Distribution\");"
   ]
  },
  {
   "cell_type": "code",
   "execution_count": 28,
   "metadata": {
    "scrolled": true
   },
   "outputs": [
    {
     "data": {
      "image/png": "[encoded data removed]",
      "text/plain": [
       "<Figure size 432x288 with 1 Axes>"
      ]
     },
     "metadata": {
      "needs_background": "light"
     },
     "output_type": "display_data"
    }
   ],
   "source": [
    "# Q-Q plot\n",
    "# Use qqplot function from StatsModels\n",
    "fig, ax = plt.subplots()\n",
    "sm.graphics.qqplot(model_train.resid, dist=stats.norm, line='45', fit=True, ax=ax)\n",
    "\n",
    "# Customize plot appearance\n",
    "line = ax.lines[1]\n",
    "line.set_color(\"black\")\n",
    "fig.suptitle(\"Distribution\");"
   ]
  },
  {
   "cell_type": "code",
   "execution_count": 29,
   "metadata": {},
   "outputs": [
    {
     "data": {
      "text/plain": [
       "(280728.68247952766, 0.0, -2.2958924128720475, 21.688765996932844)"
      ]
     },
     "execution_count": 29,
     "metadata": {},
     "output_type": "execute_result"
    }
   ],
   "source": [
    "jarque_bera(model_train.resid)"
   ]
  },
  {
   "cell_type": "markdown",
   "metadata": {},
   "source": [
    "To determine the normality of the model, we can look at the histogram of residuals and QQ plot. We can also reference the Jarque-Bera test results.\n",
    "\n",
    "JB: 252976656\n",
    "\n",
    "P(JB): 0.0\n",
    "\n",
    "We can reject the null hypothesis as the residual P value is below alpha, and so the distribution is not normal.\n",
    "\n",
    "The fix is to transform non-normal features or the target by applying a log transform."
   ]
  },
  {
   "cell_type": "markdown",
   "metadata": {},
   "source": [
    "# Equal Variance(Homoskedacity)"
   ]
  },
  {
   "cell_type": "code",
   "execution_count": 30,
   "metadata": {},
   "outputs": [
    {
     "data": {
      "image/png": "[encoded data removed]",
      "text/plain": [
       "<Figure size 576x288 with 1 Axes>"
      ]
     },
     "metadata": {
      "needs_background": "light"
     },
     "output_type": "display_data"
    }
   ],
   "source": [
    "# Plotting the residuals\n",
    "plt.subplots(figsize=(8, 4))\n",
    "plt.scatter(x=y_train, y=model_train.resid, alpha=0.8)\n",
    "plt.axhline(y=0, color='darkorange', linestyle='--')\n",
    "\n",
    "plt.ylabel('Residual', fontsize=14)\n",
    "plt.xlabel('Price', fontsize=14)\n",
    "plt.title('Homescedasticity Assumption', fontsize=16)\n",
    "plt.show();"
   ]
  },
  {
   "cell_type": "code",
   "execution_count": 31,
   "metadata": {},
   "outputs": [
    {
     "data": {
      "text/plain": [
       "(1.0356168043076073, 0.0960151055511116, 'two-sided')"
      ]
     },
     "execution_count": 31,
     "metadata": {},
     "output_type": "execute_result"
    }
   ],
   "source": [
    "# Goldfeld-Quandt test:\n",
    "het_goldfeldquandt(y_train, X_train, alternative='two-sided')"
   ]
  },
  {
   "cell_type": "markdown",
   "metadata": {},
   "source": [
    "For this data, we have a p value above alpha. We cannot reject the null hypothesis, so the model is homoscedastic."
   ]
  },
  {
   "cell_type": "code",
   "execution_count": null,
   "metadata": {},
   "outputs": [],
   "source": []
  }
 ],
 "metadata": {
  "kernelspec": {
   "display_name": "Python (learn-env)",
   "language": "python",
   "name": "learn-env"
  },
  "language_info": {
   "codemirror_mode": {
    "name": "ipython",
    "version": 3
   },
   "file_extension": ".py",
   "mimetype": "text/x-python",
   "name": "python",
   "nbconvert_exporter": "python",
   "pygments_lexer": "ipython3",
   "version": "3.8.5"
  }
 },
 "nbformat": 4,
 "nbformat_minor": 4
}
