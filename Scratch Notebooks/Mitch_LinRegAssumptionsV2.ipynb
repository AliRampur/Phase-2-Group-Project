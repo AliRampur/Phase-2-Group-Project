{
 "cells": [
  {
   "cell_type": "code",
   "execution_count": 4,
   "metadata": {},
   "outputs": [],
   "source": [
    "#import \n",
    "\n",
    "import pandas as pd\n",
    "import numpy as np\n",
    "from matplotlib import pyplot as plt\n",
    "from scipy import stats\n",
    "import seaborn as sns\n",
    "from sklearn.linear_model import LinearRegression\n",
    "from mpl_toolkits import mplot3d\n",
    "import sklearn.metrics as metrics\n",
    "import statsmodels.api as sm\n",
    "from sklearn.preprocessing import OneHotEncoder\n",
    "from sklearn.preprocessing import OrdinalEncoder\n",
    "from sklearn.impute import SimpleImputer\n",
    "from sklearn.preprocessing import PolynomialFeatures\n",
    "from sklearn.model_selection import train_test_split\n",
    "from sklearn.linear_model import LinearRegression\n",
    "\n",
    "from statsmodels.stats.stattools import jarque_bera\n",
    "from statsmodels.stats.diagnostic import het_goldfeldquandt\n",
    "from statsmodels.stats.diagnostic import linear_rainbow\n",
    "\n",
    "%matplotlib inline"
   ]
  },
  {
   "cell_type": "markdown",
   "metadata": {},
   "source": [
    "### Setup model"
   ]
  },
  {
   "cell_type": "code",
   "execution_count": 6,
   "metadata": {
    "scrolled": true
   },
   "outputs": [
    {
     "name": "stderr",
     "output_type": "stream",
     "text": [
      "C:\\Users\\mitch\\anaconda3\\envs\\learn-env\\lib\\site-packages\\pandas\\core\\indexing.py:670: SettingWithCopyWarning: \n",
      "A value is trying to be set on a copy of a slice from a DataFrame\n",
      "\n",
      "See the caveats in the documentation: https://pandas.pydata.org/pandas-docs/stable/user_guide/indexing.html#returning-a-view-versus-a-copy\n",
      "  iloc._setitem_with_indexer(indexer, value)\n",
      "C:\\Users\\mitch\\anaconda3\\envs\\learn-env\\lib\\site-packages\\pandas\\core\\indexing.py:670: SettingWithCopyWarning: \n",
      "A value is trying to be set on a copy of a slice from a DataFrame\n",
      "\n",
      "See the caveats in the documentation: https://pandas.pydata.org/pandas-docs/stable/user_guide/indexing.html#returning-a-view-versus-a-copy\n",
      "  iloc._setitem_with_indexer(indexer, value)\n"
     ]
    }
   ],
   "source": [
    "df = pd.read_csv('./data/kc_house_data.csv',\n",
    "                parse_dates=['date'])\n",
    "\n",
    "df.drop(['id', 'floors',\n",
    "         'heat_source','lat','long'], axis=1, inplace=True)\n",
    "\n",
    "# Create zip from address\n",
    "df['zip'] = [x.split(',')[2][-5:] for x in df['address']] \n",
    "\n",
    "#https://www.zillow.com/browse/homes/wa/king-county/  - remove all records with zipcodes that dont start with '98'\n",
    "df = df[df.zip.str.startswith(('98'))]\n",
    "\n",
    "df['city'] = [x.split(',')[1][0:] for x in df['address']]\n",
    "\n",
    "#create sale year column from datetime date info\n",
    "df['sale_year'] = pd.DatetimeIndex(df['date']).year.astype(int)\n",
    "\n",
    "df['sale_year'].value_counts()\n",
    "\n",
    "\n",
    "#create new column - age of house\n",
    "df['home_age'] = (df['sale_year']+1) - df['yr_built']\n",
    "\n",
    "#create new column - time since reno\n",
    "df['yr_from_reno'] = (df['sale_year']+1) - df['yr_renovated']\n",
    "\n",
    "# create filter for yr_from_reno to ID houses that haven't been renovated\n",
    "reno_filter = df['yr_from_reno'] > 2000\n",
    "\n",
    "# create new column for design_age to see time since build if no reno, or time since reno if renovated\n",
    "# first set to reno age\n",
    "df['design_age'] = df['yr_from_reno']\n",
    "#then update columns where there was no reno to age of the home\n",
    "df['design_age'].loc[reno_filter] = df['home_age']\n",
    "\n",
    "#some houses were sold before they were built - we need to change those records to 0\n",
    "\n",
    "prebuild_filter = df['design_age'] < 1\n",
    "\n",
    "df['design_age'].loc[prebuild_filter] = 1\n",
    "\n",
    "\n",
    "grade_cat = df[['grade']]\n",
    "grade_categories = ['1 Cabin', '2 Substandard', '3 Poor', '4 Low', '5 Fair', '6 Low Average',\n",
    "                    '7 Average', '8 Good', '9 Better', '10 Very Good', '11 Excellent', '12 Luxury', '13 Mansion']\n",
    "encoder_grade = OrdinalEncoder(categories=[grade_categories])\n",
    "encoder_grade.fit(grade_cat)\n",
    "grade_encoded_train = encoder_grade.transform(grade_cat)\n",
    "grade_encoded_train = grade_encoded_train.flatten()\n",
    "df[\"grade\"] = grade_encoded_train"
   ]
  },
  {
   "cell_type": "code",
   "execution_count": 7,
   "metadata": {},
   "outputs": [],
   "source": [
    "# Update df to only include homes tham meet minimum code requirements - Average construction grade + design\n",
    "# Finish work is 'better' and 'more' design quality\n",
    "\n",
    "grade_filter1 = df[\"grade\"] > 5 \n",
    "grade_filter2 = df[\"grade\"] < 11\n",
    "\n",
    "df = df.loc[grade_filter1 & grade_filter2]"
   ]
  },
  {
   "cell_type": "code",
   "execution_count": 8,
   "metadata": {},
   "outputs": [],
   "source": [
    "# Update df to only include cities with 30+ homes accounted for\n",
    "df_city = df.groupby('city').count()['price'].reset_index()\n",
    "city_columns = df_city[ df_city['price'] >= 30 ].transpose()\n",
    "city_columns.columns = city_columns.iloc[0]\n",
    "# len(city_columns.columns)\n",
    "\n",
    "drop_city = df.groupby('city').count()['price'].reset_index()\n",
    "drop_city_columns = drop_city[ drop_city['price'] < 30 ].transpose()\n",
    "drop_city_columns.columns = drop_city_columns.iloc[0]\n",
    "drop_city_columns.columns\n",
    "\n",
    "drop_city = list(drop_city_columns.columns)\n",
    "\n",
    "for city in drop_city:\n",
    "    df = df[~df.city.str.contains(city)]"
   ]
  },
  {
   "cell_type": "code",
   "execution_count": 9,
   "metadata": {},
   "outputs": [],
   "source": [
    "# Update df to only include homes with living_sqft > 1100\n",
    "# Accounts for 360sqft garage\n",
    "\n",
    "sqft_filter1 = df[\"sqft_living\"] > 1100\n",
    "df = df.loc[sqft_filter1]"
   ]
  },
  {
   "cell_type": "code",
   "execution_count": 11,
   "metadata": {},
   "outputs": [
    {
     "name": "stderr",
     "output_type": "stream",
     "text": [
      "C:\\Users\\mitch\\anaconda3\\envs\\learn-env\\lib\\site-packages\\pandas\\core\\indexing.py:1765: SettingWithCopyWarning: \n",
      "A value is trying to be set on a copy of a slice from a DataFrame.\n",
      "Try using .loc[row_indexer,col_indexer] = value instead\n",
      "\n",
      "See the caveats in the documentation: https://pandas.pydata.org/pandas-docs/stable/user_guide/indexing.html#returning-a-view-versus-a-copy\n",
      "  isetter(loc, value)\n",
      "<ipython-input-11-e208c5ee3da5>:10: SettingWithCopyWarning: \n",
      "A value is trying to be set on a copy of a slice from a DataFrame.\n",
      "Try using .loc[row_indexer,col_indexer] = value instead\n",
      "\n",
      "See the caveats in the documentation: https://pandas.pydata.org/pandas-docs/stable/user_guide/indexing.html#returning-a-view-versus-a-copy\n",
      "  X_train['bathrooms'] = X_train['bathrooms'].apply(np.ceil)\n",
      "<ipython-input-11-e208c5ee3da5>:14: SettingWithCopyWarning: \n",
      "A value is trying to be set on a copy of a slice from a DataFrame.\n",
      "Try using .loc[row_indexer,col_indexer] = value instead\n",
      "\n",
      "See the caveats in the documentation: https://pandas.pydata.org/pandas-docs/stable/user_guide/indexing.html#returning-a-view-versus-a-copy\n",
      "  X_train['basement_binary'] = [1 if sq >  0  else 0 for sq in X_train['sqft_basement']]\n",
      "<ipython-input-11-e208c5ee3da5>:15: SettingWithCopyWarning: \n",
      "A value is trying to be set on a copy of a slice from a DataFrame.\n",
      "Try using .loc[row_indexer,col_indexer] = value instead\n",
      "\n",
      "See the caveats in the documentation: https://pandas.pydata.org/pandas-docs/stable/user_guide/indexing.html#returning-a-view-versus-a-copy\n",
      "  X_train['garage_binary'] = [1 if sq >  0  else 0 for sq in X_train['sqft_garage']]\n",
      "<ipython-input-11-e208c5ee3da5>:16: SettingWithCopyWarning: \n",
      "A value is trying to be set on a copy of a slice from a DataFrame.\n",
      "Try using .loc[row_indexer,col_indexer] = value instead\n",
      "\n",
      "See the caveats in the documentation: https://pandas.pydata.org/pandas-docs/stable/user_guide/indexing.html#returning-a-view-versus-a-copy\n",
      "  X_train['patio_binary'] = [1 if sq >  0  else 0 for sq in X_train['sqft_patio']]\n",
      "<ipython-input-11-e208c5ee3da5>:17: SettingWithCopyWarning: \n",
      "A value is trying to be set on a copy of a slice from a DataFrame.\n",
      "Try using .loc[row_indexer,col_indexer] = value instead\n",
      "\n",
      "See the caveats in the documentation: https://pandas.pydata.org/pandas-docs/stable/user_guide/indexing.html#returning-a-view-versus-a-copy\n",
      "  X_train['waterfront_binary'] = [1 if sq == 'YES'  else 0 for sq in X_train['waterfront']]\n",
      "<ipython-input-11-e208c5ee3da5>:18: SettingWithCopyWarning: \n",
      "A value is trying to be set on a copy of a slice from a DataFrame.\n",
      "Try using .loc[row_indexer,col_indexer] = value instead\n",
      "\n",
      "See the caveats in the documentation: https://pandas.pydata.org/pandas-docs/stable/user_guide/indexing.html#returning-a-view-versus-a-copy\n",
      "  X_train['PublicSewer_binary'] = [1 if sq == 'PUBLIC' else 0 for sq in X_train['sewer_system']]\n",
      "<ipython-input-11-e208c5ee3da5>:19: SettingWithCopyWarning: \n",
      "A value is trying to be set on a copy of a slice from a DataFrame.\n",
      "Try using .loc[row_indexer,col_indexer] = value instead\n",
      "\n",
      "See the caveats in the documentation: https://pandas.pydata.org/pandas-docs/stable/user_guide/indexing.html#returning-a-view-versus-a-copy\n",
      "  X_train['yrenovated_binary'] = [1 if sq >  0 else 0 for sq in X_train['yr_renovated']]\n",
      "<ipython-input-11-e208c5ee3da5>:31: SettingWithCopyWarning: \n",
      "A value is trying to be set on a copy of a slice from a DataFrame.\n",
      "Try using .loc[row_indexer,col_indexer] = value instead\n",
      "\n",
      "See the caveats in the documentation: https://pandas.pydata.org/pandas-docs/stable/user_guide/indexing.html#returning-a-view-versus-a-copy\n",
      "  X_train[\"greenbelt\"] = greenbelt_encoded_train\n",
      "<ipython-input-11-e208c5ee3da5>:38: SettingWithCopyWarning: \n",
      "A value is trying to be set on a copy of a slice from a DataFrame.\n",
      "Try using .loc[row_indexer,col_indexer] = value instead\n",
      "\n",
      "See the caveats in the documentation: https://pandas.pydata.org/pandas-docs/stable/user_guide/indexing.html#returning-a-view-versus-a-copy\n",
      "  X_train[\"nuisance\"] = nuisance_encoded_train\n",
      "<ipython-input-11-e208c5ee3da5>:48: SettingWithCopyWarning: \n",
      "A value is trying to be set on a copy of a slice from a DataFrame.\n",
      "Try using .loc[row_indexer,col_indexer] = value instead\n",
      "\n",
      "See the caveats in the documentation: https://pandas.pydata.org/pandas-docs/stable/user_guide/indexing.html#returning-a-view-versus-a-copy\n",
      "  X_train[\"condition\"] = condition_encoded_train\n",
      "<ipython-input-11-e208c5ee3da5>:58: SettingWithCopyWarning: \n",
      "A value is trying to be set on a copy of a slice from a DataFrame.\n",
      "Try using .loc[row_indexer,col_indexer] = value instead\n",
      "\n",
      "See the caveats in the documentation: https://pandas.pydata.org/pandas-docs/stable/user_guide/indexing.html#returning-a-view-versus-a-copy\n",
      "  X_train[\"view\"] = view_encoded_train\n",
      "C:\\Users\\mitch\\anaconda3\\envs\\learn-env\\lib\\site-packages\\pandas\\core\\frame.py:4163: SettingWithCopyWarning: \n",
      "A value is trying to be set on a copy of a slice from a DataFrame\n",
      "\n",
      "See the caveats in the documentation: https://pandas.pydata.org/pandas-docs/stable/user_guide/indexing.html#returning-a-view-versus-a-copy\n",
      "  return super().drop(\n"
     ]
    }
   ],
   "source": [
    "# Setup X_train, y_train: apply onehotencoder, ordinalencoder, binary transformations\n",
    "\n",
    "y = df[\"price\"]\n",
    "X = df.drop(\"price\", axis=1)\n",
    "\n",
    "X_train, X_test, y_train, y_test = train_test_split(X, y, random_state=43)\n",
    "\n",
    "# Quasi-categorical(0.5 + 0.5 bathrooms != 1 bathroom). Change 0 bathroom to 1 bathroom. Round up other values.\n",
    "X_train.loc[X_train['bathrooms'] == 0, 'bathrooms'] = 1\n",
    "X_train['bathrooms'] = X_train['bathrooms'].apply(np.ceil)\n",
    "\n",
    "\n",
    "# Create binary substitutes for columns\n",
    "X_train['basement_binary'] = [1 if sq >  0  else 0 for sq in X_train['sqft_basement']]\n",
    "X_train['garage_binary'] = [1 if sq >  0  else 0 for sq in X_train['sqft_garage']]\n",
    "X_train['patio_binary'] = [1 if sq >  0  else 0 for sq in X_train['sqft_patio']]\n",
    "X_train['waterfront_binary'] = [1 if sq == 'YES'  else 0 for sq in X_train['waterfront']]\n",
    "X_train['PublicSewer_binary'] = [1 if sq == 'PUBLIC' else 0 for sq in X_train['sewer_system']]\n",
    "X_train['yrenovated_binary'] = [1 if sq >  0 else 0 for sq in X_train['yr_renovated']]\n",
    "\n",
    "\n",
    "# Create binary values for greenbelt, nuisance\n",
    "# Using OneHotEncoder\n",
    "\n",
    "greenbelt_cat = X_train[['greenbelt']]\n",
    "encoder_greenbelt = OrdinalEncoder(categories=[['NO', 'YES']])\n",
    "encoder_greenbelt.fit(greenbelt_cat)\n",
    "greenbelt_encoded_train = encoder_greenbelt.transform(greenbelt_cat)\n",
    "greenbelt_encoded_train = greenbelt_encoded_train.flatten()\n",
    "# greenbelt_encoded_train\n",
    "X_train[\"greenbelt\"] = greenbelt_encoded_train\n",
    "\n",
    "nuisance_cat = X_train[['nuisance']]\n",
    "encoder_nuisance = OrdinalEncoder()\n",
    "encoder_nuisance.fit(nuisance_cat)\n",
    "nuisance_encoded_train = encoder_nuisance.transform(nuisance_cat)\n",
    "nuisance_encoded_train = nuisance_encoded_train.flatten()\n",
    "X_train[\"nuisance\"] = nuisance_encoded_train\n",
    "\n",
    "# Create Ordinal Values for condition\n",
    "# Using OneHotEncoder\n",
    "condition_cat = X_train[['condition']]\n",
    "condition_categories = ['Poor', 'Fair', 'Average', 'Good', 'Very Good']\n",
    "encoder_condition = OrdinalEncoder(categories=[condition_categories])\n",
    "encoder_condition.fit(condition_cat)\n",
    "condition_encoded_train = encoder_condition.transform(condition_cat)\n",
    "condition_encoded_train = condition_encoded_train.flatten()\n",
    "X_train[\"condition\"] = condition_encoded_train\n",
    "\n",
    "# Create Ordinal Values for view\n",
    "# Using OneHotEncoder\n",
    "view_cat = X_train[['view']]\n",
    "view_categories = ['NONE', 'FAIR', 'AVERAGE', 'GOOD', 'EXCELLENT']\n",
    "encoder_view = OrdinalEncoder(categories=[view_categories])\n",
    "encoder_view.fit(view_cat)\n",
    "view_encoded_train = encoder_view.transform(view_cat)\n",
    "view_encoded_train = view_encoded_train.flatten()\n",
    "X_train[\"view\"] = view_encoded_train\n",
    "\n",
    "\n",
    "# (1) Create a variable zip\n",
    "# extracted from df\n",
    "# (double brackets due to shape expected by OHE)\n",
    "city_train = X_train[[\"city\"]]\n",
    "\n",
    "ohe_city = OneHotEncoder(categories=\"auto\",\n",
    "                    sparse=False,\n",
    "                    handle_unknown=\"ignore\")\n",
    "\n",
    "# (3) Fit the encoder on fireplace_qu_train\n",
    "ohe_city.fit(city_train)\n",
    "\n",
    "# (2) Instantiate a OneHotEncoder with categories=\"auto\",\n",
    "# sparse=False, and handle_unknown=\"ignore\"\n",
    "city_encoded_train = ohe_city.transform(city_train)\n",
    "\n",
    "# Visually inspect fireplace_qu_encoded_train\n",
    "city_encoded_train\n",
    "\n",
    "# (5a) Make the transformed data into a dataframe\n",
    "city_encoded_train = pd.DataFrame(\n",
    "    # Pass in NumPy array\n",
    "    city_encoded_train,\n",
    "    # Set the column names to the categories found by OHE\n",
    "    columns=ohe_city.categories_[0],\n",
    "    # Set the index to match X_test's index\n",
    "    index=X_train.index\n",
    ")\n",
    "\n",
    "# Run this cell without changes\n",
    "\n",
    "# (5b) Drop original FireplaceQu column\n",
    "X_train.drop(\"city\", axis=1, inplace=True)\n",
    "\n",
    "# Run this cell without changes\n",
    "\n",
    "# (5c) Concatenate the new dataframe with current X_train\n",
    "X_train = pd.concat([X_train, city_encoded_train], axis=1)\n",
    "\n",
    "# Visually inspect X_train\n",
    "X_train.head()\n",
    "\n",
    "# (1) Create a variable zip\n",
    "# extracted from df\n",
    "# (double brackets due to shape expected by OHE)\n",
    "fireplace_qu_train = X_train[[\"zip\"]]\n",
    "\n",
    "# (2) Instantiate a OneHotEncoder with categories=\"auto\",\n",
    "# sparse=False, and handle_unknown=\"ignore\"\n",
    "ohe_zip = OneHotEncoder(categories=\"auto\",\n",
    "                    sparse=False,\n",
    "                    handle_unknown=\"ignore\")\n",
    "\n",
    "# (3) Fit the encoder on fireplace_qu_train\n",
    "ohe_zip.fit(fireplace_qu_train)\n",
    "\n",
    "# Inspect the categories of the fitted encoder\n",
    "ohe_zip.categories_\n",
    "\n",
    "# Replace None with appropriate code\n",
    "\n",
    "# (4) Transform fireplace_qu_train using the encoder and\n",
    "# assign the result to fireplace_qu_encoded_train\n",
    "fireplace_qu_encoded_train = ohe_zip.transform(fireplace_qu_train)\n",
    "\n",
    "# Visually inspect fireplace_qu_encoded_train\n",
    "fireplace_qu_encoded_train\n",
    "\n",
    "# Run this cell without changes\n",
    "\n",
    "# (5a) Make the transformed data into a dataframe\n",
    "fireplace_qu_encoded_train = pd.DataFrame(\n",
    "    # Pass in NumPy array\n",
    "    fireplace_qu_encoded_train,\n",
    "    # Set the column names to the categories found by OHE\n",
    "    columns=ohe_zip.categories_[0],\n",
    "    # Set the index to match X_train's index\n",
    "    index=X_train.index\n",
    ")\n",
    "\n",
    "# Visually inspect new dataframe\n",
    "fireplace_qu_encoded_train\n",
    "\n",
    "# Run this cell without changes\n",
    "\n",
    "# (5b) Drop original FireplaceQu column\n",
    "X_train.drop(\"zip\", axis=1, inplace=True)\n",
    "\n",
    "# Visually inspect X_train\n",
    "\n",
    "# Run this cell without changes\n",
    "\n",
    "# (5c) Concatenate the new dataframe with current X_train\n",
    "X_train = pd.concat([X_train, fireplace_qu_encoded_train], axis=1)\n",
    "\n",
    "# Visually inspect X_train\n",
    "X_train.head()\n",
    "\n",
    "# Create 'total_sqft' by combining sqft_above + sqft_basement + \n",
    "# sqft_garage + sqft_patio\n",
    "X_train['total_sqft'] = X_train['sqft_above'] + X_train['sqft_basement'] + X_train['sqft_garage'] + X_train['sqft_patio']\n",
    "\n",
    "X_train['weighted__livsqft'] = X_train['sqft_living'] * X_train['grade']\n",
    "\n",
    "X_train['date'] = pd.to_datetime(X_train['date'], format='%Y-%m-%d')\n",
    "\n",
    "X_train['date'].head()\n",
    "\n",
    "#create sale year column from datetime date info\n",
    "X_train['sale_year'] = pd.DatetimeIndex(X_train['date']).year.astype(int)\n",
    "\n",
    "X_train['sale_year'].value_counts()\n",
    "\n",
    "#Binning by decade\n",
    "\n",
    "X_train['design_decade'] = pd.cut(x=X_train['design_age'], bins=[0, 3, 13, 23, 33, 43, 53, 63, 73,\n",
    "                                                         83, 93, 103, 113, 123],\n",
    "                    labels=['2020s', '2010s', '2000s', '1990s', '1980s', '1970s', '1960s',\n",
    "                            '1950s', '1940s', '1930s', '1920s', '1910s', '1900s'])\n",
    "\n",
    "X_train.design_decade.value_counts()\n",
    "\n",
    "labels_ordered = ['2020s', '2010s', '2000s', '1990s', '1980s', '1970s', '1960s','1950s', '1940s', '1930s', '1920s', '1910s', '1900s']\n",
    "\n",
    "labels_ordered.reverse()\n",
    "\n",
    "labels_ordered\n",
    "\n",
    "# Create Ordinal Values for view\n",
    "# Using OneHotEncoder\n",
    "age_cat = X_train[['design_decade']]\n",
    "age_categories = labels_ordered\n",
    "encoder_age = OrdinalEncoder(categories=[age_categories])\n",
    "encoder_age.fit(age_cat)\n",
    "encoder_age.categories_[0]\n",
    "\n",
    "age_encoded_train = encoder_age.transform(age_cat)\n",
    "age_encoded_train = age_encoded_train.flatten()\n",
    "X_train[\"design_decade\"] = age_encoded_train\n",
    "\n",
    "X_train[\"design_decade\"]\n",
    "\n",
    "X_train['yard_size_ratio'] = (X_train['total_sqft'] / X_train['sqft_lot']) * 100\n",
    "\n",
    "# list(X_train.columns)"
   ]
  },
  {
   "cell_type": "code",
   "execution_count": 12,
   "metadata": {},
   "outputs": [],
   "source": [
    "# Create additional engineered variables\n",
    "\n",
    "X_train['view_grade'] = (X_train['view'] + 1) * X_train['grade']\n",
    "X_train['waterfront_grade'] = (X_train['waterfront_binary'] + 1)  * X_train['grade']\n",
    "X_train['design_decade_grade'] = (X_train['design_decade'] + 1)  * X_train['grade']\n",
    "X_train['nuisance_grade'] = (X_train['nuisance'] + 1)  * X_train['grade']\n",
    "X_train['garage_binary_grade'] = (X_train['garage_binary'] + 1)  * X_train['grade']\n",
    "X_train['basement_binary_grade'] = (X_train['basement_binary'] + 1)  * X_train['grade']\n",
    "X_train['patio_binary_grade'] = (X_train['patio_binary'] + 1)  * X_train['grade']\n",
    "X_train['PublicSewer_binary_grade'] = (X_train['PublicSewer_binary'] + 1)  * X_train['grade']\n",
    "X_train['condition_grade'] = (X_train['condition'] + 1)  * X_train['grade']\n",
    "\n"
   ]
  },
  {
   "cell_type": "code",
   "execution_count": 13,
   "metadata": {},
   "outputs": [],
   "source": [
    "relevant = [' Auburn', ' Bellevue', ' Black Diamond', ' Bothell', ' Burien',\n",
    "           ' Carnation', ' Clyde Hill', ' Covington', ' Des Moines', ' Duvall',\n",
    "           ' Enumclaw', ' Fall City', ' Federal Way', ' Issaquah', ' Kenmore',\n",
    "           ' Kent', ' Kirkland', ' Lake Forest Park', ' Maple Valley', ' Medina',\n",
    "           ' Mercer Island', ' Newcastle', ' Normandy Park', ' North Bend',\n",
    "           ' Pacific', ' Ravensdale', ' Redmond', ' Renton', ' Sammamish',\n",
    "           ' SeaTac', ' Seattle', ' Shoreline', ' Snoqualmie', ' Tukwila',\n",
    "           ' Vashon', ' Woodinville',\n",
    "            'weighted__livsqft', 'design_decade', 'yard_size_ratio', 'view_grade',\n",
    "            'waterfront_grade', 'design_decade_grade', 'nuisance_grade', 'garage_binary_grade',\n",
    "            'basement_binary_grade', 'patio_binary_grade', 'PublicSewer_binary_grade', 'condition_grade']\n",
    "\n",
    "X_train = X_train[relevant]"
   ]
  },
  {
   "cell_type": "code",
   "execution_count": 14,
   "metadata": {},
   "outputs": [
    {
     "data": {
      "text/html": [
       "<table class=\"simpletable\">\n",
       "<caption>OLS Regression Results</caption>\n",
       "<tr>\n",
       "  <th>Dep. Variable:</th>          <td>price</td>      <th>  R-squared:         </th>  <td>   0.644</td>  \n",
       "</tr>\n",
       "<tr>\n",
       "  <th>Model:</th>                   <td>OLS</td>       <th>  Adj. R-squared:    </th>  <td>   0.643</td>  \n",
       "</tr>\n",
       "<tr>\n",
       "  <th>Method:</th>             <td>Least Squares</td>  <th>  F-statistic:       </th>  <td>   699.6</td>  \n",
       "</tr>\n",
       "<tr>\n",
       "  <th>Date:</th>             <td>Wed, 03 Aug 2022</td> <th>  Prob (F-statistic):</th>   <td>  0.00</td>   \n",
       "</tr>\n",
       "<tr>\n",
       "  <th>Time:</th>                 <td>15:00:03</td>     <th>  Log-Likelihood:    </th> <td>-2.6415e+05</td>\n",
       "</tr>\n",
       "<tr>\n",
       "  <th>No. Observations:</th>      <td> 18192</td>      <th>  AIC:               </th>  <td>5.284e+05</td> \n",
       "</tr>\n",
       "<tr>\n",
       "  <th>Df Residuals:</th>          <td> 18144</td>      <th>  BIC:               </th>  <td>5.288e+05</td> \n",
       "</tr>\n",
       "<tr>\n",
       "  <th>Df Model:</th>              <td>    47</td>      <th>                     </th>      <td> </td>     \n",
       "</tr>\n",
       "<tr>\n",
       "  <th>Covariance Type:</th>      <td>nonrobust</td>    <th>                     </th>      <td> </td>     \n",
       "</tr>\n",
       "</table>\n",
       "<table class=\"simpletable\">\n",
       "<tr>\n",
       "              <td></td>                <th>coef</th>     <th>std err</th>      <th>t</th>      <th>P>|t|</th>  <th>[0.025</th>    <th>0.975]</th>  \n",
       "</tr>\n",
       "<tr>\n",
       "  <th>const</th>                    <td>-4.273e+05</td> <td> 4.11e+04</td> <td>  -10.384</td> <td> 0.000</td> <td>-5.08e+05</td> <td>-3.47e+05</td>\n",
       "</tr>\n",
       "<tr>\n",
       "  <th> Auburn</th>                  <td>-4.982e+05</td> <td> 1.72e+04</td> <td>  -28.988</td> <td> 0.000</td> <td>-5.32e+05</td> <td>-4.64e+05</td>\n",
       "</tr>\n",
       "<tr>\n",
       "  <th> Bellevue</th>                <td> 4.779e+05</td> <td> 1.68e+04</td> <td>   28.531</td> <td> 0.000</td> <td> 4.45e+05</td> <td> 5.11e+05</td>\n",
       "</tr>\n",
       "<tr>\n",
       "  <th> Black Diamond</th>           <td> -5.22e+05</td> <td> 3.56e+04</td> <td>  -14.643</td> <td> 0.000</td> <td>-5.92e+05</td> <td>-4.52e+05</td>\n",
       "</tr>\n",
       "<tr>\n",
       "  <th> Bothell</th>                 <td> 1.233e+04</td> <td> 3.42e+04</td> <td>    0.361</td> <td> 0.718</td> <td>-5.47e+04</td> <td> 7.94e+04</td>\n",
       "</tr>\n",
       "<tr>\n",
       "  <th> Burien</th>                  <td>-3.396e+05</td> <td> 2.93e+04</td> <td>  -11.580</td> <td> 0.000</td> <td>-3.97e+05</td> <td>-2.82e+05</td>\n",
       "</tr>\n",
       "<tr>\n",
       "  <th> Carnation</th>               <td>-2.543e+05</td> <td> 4.92e+04</td> <td>   -5.166</td> <td> 0.000</td> <td>-3.51e+05</td> <td>-1.58e+05</td>\n",
       "</tr>\n",
       "<tr>\n",
       "  <th> Clyde Hill</th>              <td> 2.389e+06</td> <td> 7.21e+04</td> <td>   33.153</td> <td> 0.000</td> <td> 2.25e+06</td> <td> 2.53e+06</td>\n",
       "</tr>\n",
       "<tr>\n",
       "  <th> Covington</th>               <td>-4.116e+05</td> <td> 2.87e+04</td> <td>  -14.354</td> <td> 0.000</td> <td>-4.68e+05</td> <td>-3.55e+05</td>\n",
       "</tr>\n",
       "<tr>\n",
       "  <th> Des Moines</th>              <td>-3.998e+05</td> <td> 3.09e+04</td> <td>  -12.930</td> <td> 0.000</td> <td> -4.6e+05</td> <td>-3.39e+05</td>\n",
       "</tr>\n",
       "<tr>\n",
       "  <th> Duvall</th>                  <td>-2.566e+05</td> <td> 3.69e+04</td> <td>   -6.960</td> <td> 0.000</td> <td>-3.29e+05</td> <td>-1.84e+05</td>\n",
       "</tr>\n",
       "<tr>\n",
       "  <th> Enumclaw</th>                <td>-4.637e+05</td> <td> 3.09e+04</td> <td>  -15.020</td> <td> 0.000</td> <td>-5.24e+05</td> <td>-4.03e+05</td>\n",
       "</tr>\n",
       "<tr>\n",
       "  <th> Fall City</th>               <td> 2.923e+05</td> <td> 5.94e+04</td> <td>    4.920</td> <td> 0.000</td> <td> 1.76e+05</td> <td> 4.09e+05</td>\n",
       "</tr>\n",
       "<tr>\n",
       "  <th> Federal Way</th>             <td>-5.204e+05</td> <td> 1.89e+04</td> <td>  -27.581</td> <td> 0.000</td> <td>-5.57e+05</td> <td>-4.83e+05</td>\n",
       "</tr>\n",
       "<tr>\n",
       "  <th> Issaquah</th>                <td> 6.823e+04</td> <td> 2.58e+04</td> <td>    2.642</td> <td> 0.008</td> <td> 1.76e+04</td> <td> 1.19e+05</td>\n",
       "</tr>\n",
       "<tr>\n",
       "  <th> Kenmore</th>                 <td>-9.914e+04</td> <td> 3.14e+04</td> <td>   -3.160</td> <td> 0.002</td> <td>-1.61e+05</td> <td>-3.76e+04</td>\n",
       "</tr>\n",
       "<tr>\n",
       "  <th> Kent</th>                    <td>  -4.4e+05</td> <td> 1.64e+04</td> <td>  -26.839</td> <td> 0.000</td> <td>-4.72e+05</td> <td>-4.08e+05</td>\n",
       "</tr>\n",
       "<tr>\n",
       "  <th> Kirkland</th>                <td> 4.009e+05</td> <td> 1.77e+04</td> <td>   22.700</td> <td> 0.000</td> <td> 3.66e+05</td> <td> 4.35e+05</td>\n",
       "</tr>\n",
       "<tr>\n",
       "  <th> Lake Forest Park</th>        <td>-1.085e+05</td> <td> 3.84e+04</td> <td>   -2.822</td> <td> 0.005</td> <td>-1.84e+05</td> <td>-3.31e+04</td>\n",
       "</tr>\n",
       "<tr>\n",
       "  <th> Maple Valley</th>            <td>-3.542e+05</td> <td> 2.07e+04</td> <td>  -17.115</td> <td> 0.000</td> <td>-3.95e+05</td> <td>-3.14e+05</td>\n",
       "</tr>\n",
       "<tr>\n",
       "  <th> Medina</th>                  <td> 2.436e+06</td> <td> 8.91e+04</td> <td>   27.330</td> <td> 0.000</td> <td> 2.26e+06</td> <td> 2.61e+06</td>\n",
       "</tr>\n",
       "<tr>\n",
       "  <th> Mercer Island</th>           <td>  6.55e+05</td> <td> 3.18e+04</td> <td>   20.565</td> <td> 0.000</td> <td> 5.93e+05</td> <td> 7.17e+05</td>\n",
       "</tr>\n",
       "<tr>\n",
       "  <th> Newcastle</th>               <td>-5.604e+04</td> <td>  4.2e+04</td> <td>   -1.335</td> <td> 0.182</td> <td>-1.38e+05</td> <td> 2.62e+04</td>\n",
       "</tr>\n",
       "<tr>\n",
       "  <th> Normandy Park</th>           <td>-3.898e+05</td> <td>  5.6e+04</td> <td>   -6.955</td> <td> 0.000</td> <td>   -5e+05</td> <td> -2.8e+05</td>\n",
       "</tr>\n",
       "<tr>\n",
       "  <th> North Bend</th>              <td>-2.416e+05</td> <td> 2.79e+04</td> <td>   -8.674</td> <td> 0.000</td> <td>-2.96e+05</td> <td>-1.87e+05</td>\n",
       "</tr>\n",
       "<tr>\n",
       "  <th> Pacific</th>                 <td>-3.753e+05</td> <td> 7.09e+04</td> <td>   -5.294</td> <td> 0.000</td> <td>-5.14e+05</td> <td>-2.36e+05</td>\n",
       "</tr>\n",
       "<tr>\n",
       "  <th> Ravensdale</th>              <td>-3.421e+05</td> <td> 7.63e+04</td> <td>   -4.484</td> <td> 0.000</td> <td>-4.92e+05</td> <td>-1.93e+05</td>\n",
       "</tr>\n",
       "<tr>\n",
       "  <th> Redmond</th>                 <td>  2.43e+05</td> <td> 1.95e+04</td> <td>   12.441</td> <td> 0.000</td> <td> 2.05e+05</td> <td> 2.81e+05</td>\n",
       "</tr>\n",
       "<tr>\n",
       "  <th> Renton</th>                  <td>-3.158e+05</td> <td> 1.56e+04</td> <td>  -20.197</td> <td> 0.000</td> <td>-3.46e+05</td> <td>-2.85e+05</td>\n",
       "</tr>\n",
       "<tr>\n",
       "  <th> Sammamish</th>               <td> 1.583e+05</td> <td> 1.96e+04</td> <td>    8.097</td> <td> 0.000</td> <td>  1.2e+05</td> <td> 1.97e+05</td>\n",
       "</tr>\n",
       "<tr>\n",
       "  <th> SeaTac</th>                  <td>-3.803e+05</td> <td> 4.28e+04</td> <td>   -8.878</td> <td> 0.000</td> <td>-4.64e+05</td> <td>-2.96e+05</td>\n",
       "</tr>\n",
       "<tr>\n",
       "  <th> Seattle</th>                 <td> 6.112e+04</td> <td> 1.23e+04</td> <td>    4.982</td> <td> 0.000</td> <td> 3.71e+04</td> <td> 8.52e+04</td>\n",
       "</tr>\n",
       "<tr>\n",
       "  <th> Shoreline</th>               <td>-1.274e+05</td> <td> 2.39e+04</td> <td>   -5.338</td> <td> 0.000</td> <td>-1.74e+05</td> <td>-8.06e+04</td>\n",
       "</tr>\n",
       "<tr>\n",
       "  <th> Snoqualmie</th>              <td>-8.563e+04</td> <td> 3.52e+04</td> <td>   -2.431</td> <td> 0.015</td> <td>-1.55e+05</td> <td>-1.66e+04</td>\n",
       "</tr>\n",
       "<tr>\n",
       "  <th> Tukwila</th>                 <td>-3.743e+05</td> <td> 5.49e+04</td> <td>   -6.822</td> <td> 0.000</td> <td>-4.82e+05</td> <td>-2.67e+05</td>\n",
       "</tr>\n",
       "<tr>\n",
       "  <th> Vashon</th>                  <td>-3.815e+05</td> <td> 4.95e+04</td> <td>   -7.711</td> <td> 0.000</td> <td>-4.78e+05</td> <td>-2.85e+05</td>\n",
       "</tr>\n",
       "<tr>\n",
       "  <th> Woodinville</th>             <td> 1.162e+05</td> <td> 2.53e+04</td> <td>    4.591</td> <td> 0.000</td> <td> 6.66e+04</td> <td> 1.66e+05</td>\n",
       "</tr>\n",
       "<tr>\n",
       "  <th>weighted__livsqft</th>        <td>   42.7901</td> <td>    0.791</td> <td>   54.122</td> <td> 0.000</td> <td>   41.240</td> <td>   44.340</td>\n",
       "</tr>\n",
       "<tr>\n",
       "  <th>design_decade</th>            <td> 3.817e+04</td> <td> 6472.725</td> <td>    5.897</td> <td> 0.000</td> <td> 2.55e+04</td> <td> 5.09e+04</td>\n",
       "</tr>\n",
       "<tr>\n",
       "  <th>yard_size_ratio</th>          <td> -791.3349</td> <td>  119.093</td> <td>   -6.645</td> <td> 0.000</td> <td>-1024.768</td> <td> -557.901</td>\n",
       "</tr>\n",
       "<tr>\n",
       "  <th>view_grade</th>               <td> 1.018e+04</td> <td>  652.864</td> <td>   15.593</td> <td> 0.000</td> <td> 8900.394</td> <td> 1.15e+04</td>\n",
       "</tr>\n",
       "<tr>\n",
       "  <th>waterfront_grade</th>         <td> 1.228e+05</td> <td> 4157.321</td> <td>   29.526</td> <td> 0.000</td> <td> 1.15e+05</td> <td> 1.31e+05</td>\n",
       "</tr>\n",
       "<tr>\n",
       "  <th>design_decade_grade</th>      <td>-6146.2173</td> <td>  898.036</td> <td>   -6.844</td> <td> 0.000</td> <td>-7906.452</td> <td>-4385.982</td>\n",
       "</tr>\n",
       "<tr>\n",
       "  <th>nuisance_grade</th>           <td>-5344.3353</td> <td> 1487.581</td> <td>   -3.593</td> <td> 0.000</td> <td>-8260.135</td> <td>-2428.536</td>\n",
       "</tr>\n",
       "<tr>\n",
       "  <th>garage_binary_grade</th>      <td>-1.008e+04</td> <td> 1433.616</td> <td>   -7.030</td> <td> 0.000</td> <td>-1.29e+04</td> <td>-7268.933</td>\n",
       "</tr>\n",
       "<tr>\n",
       "  <th>basement_binary_grade</th>    <td>-3668.6688</td> <td> 1288.125</td> <td>   -2.848</td> <td> 0.004</td> <td>-6193.516</td> <td>-1143.822</td>\n",
       "</tr>\n",
       "<tr>\n",
       "  <th>patio_binary_grade</th>       <td>  615.9860</td> <td> 1467.696</td> <td>    0.420</td> <td> 0.675</td> <td>-2260.838</td> <td> 3492.810</td>\n",
       "</tr>\n",
       "<tr>\n",
       "  <th>PublicSewer_binary_grade</th> <td> 1.209e+04</td> <td> 1778.551</td> <td>    6.798</td> <td> 0.000</td> <td> 8603.739</td> <td> 1.56e+04</td>\n",
       "</tr>\n",
       "<tr>\n",
       "  <th>condition_grade</th>          <td> 6694.8439</td> <td>  854.093</td> <td>    7.839</td> <td> 0.000</td> <td> 5020.740</td> <td> 8368.948</td>\n",
       "</tr>\n",
       "</table>\n",
       "<table class=\"simpletable\">\n",
       "<tr>\n",
       "  <th>Omnibus:</th>       <td>32823.317</td> <th>  Durbin-Watson:     </th>   <td>   1.993</td>   \n",
       "</tr>\n",
       "<tr>\n",
       "  <th>Prob(Omnibus):</th>  <td> 0.000</td>   <th>  Jarque-Bera (JB):  </th> <td>252976656.201</td>\n",
       "</tr>\n",
       "<tr>\n",
       "  <th>Skew:</th>           <td>12.436</td>   <th>  Prob(JB):          </th>   <td>    0.00</td>   \n",
       "</tr>\n",
       "<tr>\n",
       "  <th>Kurtosis:</th>       <td>580.169</td>  <th>  Cond. No.          </th>   <td>7.04e+16</td>   \n",
       "</tr>\n",
       "</table><br/><br/>Notes:<br/>[1] Standard Errors assume that the covariance matrix of the errors is correctly specified.<br/>[2] The smallest eigenvalue is 1.27e-21. This might indicate that there are<br/>strong multicollinearity problems or that the design matrix is singular."
      ],
      "text/plain": [
       "<class 'statsmodels.iolib.summary.Summary'>\n",
       "\"\"\"\n",
       "                            OLS Regression Results                            \n",
       "==============================================================================\n",
       "Dep. Variable:                  price   R-squared:                       0.644\n",
       "Model:                            OLS   Adj. R-squared:                  0.643\n",
       "Method:                 Least Squares   F-statistic:                     699.6\n",
       "Date:                Wed, 03 Aug 2022   Prob (F-statistic):               0.00\n",
       "Time:                        15:00:03   Log-Likelihood:            -2.6415e+05\n",
       "No. Observations:               18192   AIC:                         5.284e+05\n",
       "Df Residuals:                   18144   BIC:                         5.288e+05\n",
       "Df Model:                          47                                         \n",
       "Covariance Type:            nonrobust                                         \n",
       "============================================================================================\n",
       "                               coef    std err          t      P>|t|      [0.025      0.975]\n",
       "--------------------------------------------------------------------------------------------\n",
       "const                    -4.273e+05   4.11e+04    -10.384      0.000   -5.08e+05   -3.47e+05\n",
       " Auburn                  -4.982e+05   1.72e+04    -28.988      0.000   -5.32e+05   -4.64e+05\n",
       " Bellevue                 4.779e+05   1.68e+04     28.531      0.000    4.45e+05    5.11e+05\n",
       " Black Diamond            -5.22e+05   3.56e+04    -14.643      0.000   -5.92e+05   -4.52e+05\n",
       " Bothell                  1.233e+04   3.42e+04      0.361      0.718   -5.47e+04    7.94e+04\n",
       " Burien                  -3.396e+05   2.93e+04    -11.580      0.000   -3.97e+05   -2.82e+05\n",
       " Carnation               -2.543e+05   4.92e+04     -5.166      0.000   -3.51e+05   -1.58e+05\n",
       " Clyde Hill               2.389e+06   7.21e+04     33.153      0.000    2.25e+06    2.53e+06\n",
       " Covington               -4.116e+05   2.87e+04    -14.354      0.000   -4.68e+05   -3.55e+05\n",
       " Des Moines              -3.998e+05   3.09e+04    -12.930      0.000    -4.6e+05   -3.39e+05\n",
       " Duvall                  -2.566e+05   3.69e+04     -6.960      0.000   -3.29e+05   -1.84e+05\n",
       " Enumclaw                -4.637e+05   3.09e+04    -15.020      0.000   -5.24e+05   -4.03e+05\n",
       " Fall City                2.923e+05   5.94e+04      4.920      0.000    1.76e+05    4.09e+05\n",
       " Federal Way             -5.204e+05   1.89e+04    -27.581      0.000   -5.57e+05   -4.83e+05\n",
       " Issaquah                 6.823e+04   2.58e+04      2.642      0.008    1.76e+04    1.19e+05\n",
       " Kenmore                 -9.914e+04   3.14e+04     -3.160      0.002   -1.61e+05   -3.76e+04\n",
       " Kent                      -4.4e+05   1.64e+04    -26.839      0.000   -4.72e+05   -4.08e+05\n",
       " Kirkland                 4.009e+05   1.77e+04     22.700      0.000    3.66e+05    4.35e+05\n",
       " Lake Forest Park        -1.085e+05   3.84e+04     -2.822      0.005   -1.84e+05   -3.31e+04\n",
       " Maple Valley            -3.542e+05   2.07e+04    -17.115      0.000   -3.95e+05   -3.14e+05\n",
       " Medina                   2.436e+06   8.91e+04     27.330      0.000    2.26e+06    2.61e+06\n",
       " Mercer Island             6.55e+05   3.18e+04     20.565      0.000    5.93e+05    7.17e+05\n",
       " Newcastle               -5.604e+04    4.2e+04     -1.335      0.182   -1.38e+05    2.62e+04\n",
       " Normandy Park           -3.898e+05    5.6e+04     -6.955      0.000      -5e+05    -2.8e+05\n",
       " North Bend              -2.416e+05   2.79e+04     -8.674      0.000   -2.96e+05   -1.87e+05\n",
       " Pacific                 -3.753e+05   7.09e+04     -5.294      0.000   -5.14e+05   -2.36e+05\n",
       " Ravensdale              -3.421e+05   7.63e+04     -4.484      0.000   -4.92e+05   -1.93e+05\n",
       " Redmond                   2.43e+05   1.95e+04     12.441      0.000    2.05e+05    2.81e+05\n",
       " Renton                  -3.158e+05   1.56e+04    -20.197      0.000   -3.46e+05   -2.85e+05\n",
       " Sammamish                1.583e+05   1.96e+04      8.097      0.000     1.2e+05    1.97e+05\n",
       " SeaTac                  -3.803e+05   4.28e+04     -8.878      0.000   -4.64e+05   -2.96e+05\n",
       " Seattle                  6.112e+04   1.23e+04      4.982      0.000    3.71e+04    8.52e+04\n",
       " Shoreline               -1.274e+05   2.39e+04     -5.338      0.000   -1.74e+05   -8.06e+04\n",
       " Snoqualmie              -8.563e+04   3.52e+04     -2.431      0.015   -1.55e+05   -1.66e+04\n",
       " Tukwila                 -3.743e+05   5.49e+04     -6.822      0.000   -4.82e+05   -2.67e+05\n",
       " Vashon                  -3.815e+05   4.95e+04     -7.711      0.000   -4.78e+05   -2.85e+05\n",
       " Woodinville              1.162e+05   2.53e+04      4.591      0.000    6.66e+04    1.66e+05\n",
       "weighted__livsqft           42.7901      0.791     54.122      0.000      41.240      44.340\n",
       "design_decade             3.817e+04   6472.725      5.897      0.000    2.55e+04    5.09e+04\n",
       "yard_size_ratio           -791.3349    119.093     -6.645      0.000   -1024.768    -557.901\n",
       "view_grade                1.018e+04    652.864     15.593      0.000    8900.394    1.15e+04\n",
       "waterfront_grade          1.228e+05   4157.321     29.526      0.000    1.15e+05    1.31e+05\n",
       "design_decade_grade      -6146.2173    898.036     -6.844      0.000   -7906.452   -4385.982\n",
       "nuisance_grade           -5344.3353   1487.581     -3.593      0.000   -8260.135   -2428.536\n",
       "garage_binary_grade      -1.008e+04   1433.616     -7.030      0.000   -1.29e+04   -7268.933\n",
       "basement_binary_grade    -3668.6688   1288.125     -2.848      0.004   -6193.516   -1143.822\n",
       "patio_binary_grade         615.9860   1467.696      0.420      0.675   -2260.838    3492.810\n",
       "PublicSewer_binary_grade  1.209e+04   1778.551      6.798      0.000    8603.739    1.56e+04\n",
       "condition_grade           6694.8439    854.093      7.839      0.000    5020.740    8368.948\n",
       "==============================================================================\n",
       "Omnibus:                    32823.317   Durbin-Watson:                   1.993\n",
       "Prob(Omnibus):                  0.000   Jarque-Bera (JB):        252976656.201\n",
       "Skew:                          12.436   Prob(JB):                         0.00\n",
       "Kurtosis:                     580.169   Cond. No.                     7.04e+16\n",
       "==============================================================================\n",
       "\n",
       "Notes:\n",
       "[1] Standard Errors assume that the covariance matrix of the errors is correctly specified.\n",
       "[2] The smallest eigenvalue is 1.27e-21. This might indicate that there are\n",
       "strong multicollinearity problems or that the design matrix is singular.\n",
       "\"\"\""
      ]
     },
     "execution_count": 14,
     "metadata": {},
     "output_type": "execute_result"
    }
   ],
   "source": [
    "model_train = sm.OLS(y_train, sm.add_constant(X_train)).fit()\n",
    "results_train = model_train.summary()\n",
    "results_train"
   ]
  },
  {
   "cell_type": "markdown",
   "metadata": {},
   "source": [
    "# Test for 4 assumptions of linear regression"
   ]
  },
  {
   "cell_type": "markdown",
   "metadata": {},
   "source": [
    "## Linearity"
   ]
  },
  {
   "cell_type": "code",
   "execution_count": 15,
   "metadata": {},
   "outputs": [],
   "source": [
    "fitted_vals = model_train.predict()\n",
    "resids = model_train.resid"
   ]
  },
  {
   "cell_type": "code",
   "execution_count": 18,
   "metadata": {},
   "outputs": [
    {
     "data": {
      "image/png": "[encoded data removed]",
      "text/plain": [
       "<Figure size 432x288 with 2 Axes>"
      ]
     },
     "metadata": {
      "needs_background": "light"
     },
     "output_type": "display_data"
    }
   ],
   "source": [
    "fig, ax = plt.subplots(1,2)\n",
    "\n",
    "sns.regplot(x=fitted_vals, y=y_train, lowess=True, ax=ax[0], line_kws={'color': 'red'})\n",
    "ax[0].set_title('Observed vs. Predicted Values', fontsize=16)\n",
    "ax[0].set(xlabel='Predicted', ylabel='Observed');\n",
    "\n",
    "sns.regplot(x=fitted_vals, y=resids, lowess=True, ax=ax[1], line_kws={'color': 'red'})\n",
    "ax[1].set_title('Residuals vs. Predicted Values', fontsize=16)\n",
    "ax[1].set(xlabel='Predicted', ylabel='Residuals')\n",
    "\n",
    "fig.tight_layout()"
   ]
  },
  {
   "cell_type": "code",
   "execution_count": 19,
   "metadata": {
    "scrolled": true
   },
   "outputs": [
    {
     "data": {
      "image/png": "[encoded data removed]",
      "text/plain": [
       "<Figure size 432x288 with 1 Axes>"
      ]
     },
     "metadata": {
      "needs_background": "light"
     },
     "output_type": "display_data"
    }
   ],
   "source": [
    "fig, ax = plt.subplots()\n",
    "\n",
    "\n",
    "ax.scatter(y_train, model_train.resid)\n",
    "ax.axhline(y=0, color=\"black\")\n",
    "ax.set_xlabel(\"price\")\n",
    "ax.set_ylabel(\"residuals\")\n",
    "ax.set_title(\"Residual Plot\");"
   ]
  },
  {
   "cell_type": "markdown",
   "metadata": {},
   "source": [
    "### Rainbow test"
   ]
  },
  {
   "cell_type": "code",
   "execution_count": 21,
   "metadata": {},
   "outputs": [
    {
     "data": {
      "text/plain": [
       "(1.5255688826195213, 1.329690584817843e-89)"
      ]
     },
     "execution_count": 21,
     "metadata": {},
     "output_type": "execute_result"
    }
   ],
   "source": [
    "linear_rainbow(model_train)"
   ]
  },
  {
   "cell_type": "markdown",
   "metadata": {},
   "source": [
    "Since the p value is below alpha, we reject the null hypothesis and do not consider the relationship to be linear. We will need to perform a non-linear transformation on either the target and/or features."
   ]
  },
  {
   "cell_type": "markdown",
   "metadata": {},
   "source": [
    "# Independence"
   ]
  },
  {
   "cell_type": "code",
   "execution_count": 23,
   "metadata": {
    "scrolled": true
   },
   "outputs": [
    {
     "data": {
      "image/png": "[encoded data removed]",
      "text/plain": [
       "<Figure size 432x288 with 2 Axes>"
      ]
     },
     "metadata": {
      "needs_background": "light"
     },
     "output_type": "display_data"
    }
   ],
   "source": [
    "sns.heatmap(X_train.corr(), center=0);"
   ]
  },
  {
   "cell_type": "code",
   "execution_count": 24,
   "metadata": {
    "scrolled": true
   },
   "outputs": [
    {
     "data": {
      "text/html": [
       "<div>\n",
       "<style scoped>\n",
       "    .dataframe tbody tr th:only-of-type {\n",
       "        vertical-align: middle;\n",
       "    }\n",
       "\n",
       "    .dataframe tbody tr th {\n",
       "        vertical-align: top;\n",
       "    }\n",
       "\n",
       "    .dataframe thead th {\n",
       "        text-align: right;\n",
       "    }\n",
       "</style>\n",
       "<table border=\"1\" class=\"dataframe\">\n",
       "  <thead>\n",
       "    <tr style=\"text-align: right;\">\n",
       "      <th></th>\n",
       "      <th>cc</th>\n",
       "    </tr>\n",
       "    <tr>\n",
       "      <th>pairs</th>\n",
       "      <th></th>\n",
       "    </tr>\n",
       "  </thead>\n",
       "  <tbody>\n",
       "    <tr>\n",
       "      <th>(design_decade_grade, design_decade)</th>\n",
       "      <td>0.9361</td>\n",
       "    </tr>\n",
       "  </tbody>\n",
       "</table>\n",
       "</div>"
      ],
      "text/plain": [
       "                                          cc\n",
       "pairs                                       \n",
       "(design_decade_grade, design_decade)  0.9361"
      ]
     },
     "execution_count": 24,
     "metadata": {},
     "output_type": "execute_result"
    }
   ],
   "source": [
    "# save absolute value of correlation matrix as a data frame\n",
    "# converts all values to absolute value\n",
    "# stacks the row:column pairs into a multindex\n",
    "# reset the index to set the multindex to seperate columns\n",
    "# sort values. 0 is the column automatically generated by the stacking\n",
    "\n",
    "df_corr=X_train.corr().abs().stack().reset_index().sort_values(0, ascending=False)\n",
    "\n",
    "df_corr\n",
    "\n",
    "# zip the variable name columns (Which were only named level_0 and level_1 by default) in a new column named \"pairs\"\n",
    "df_corr['pairs'] = list(zip(df_corr.level_0, df_corr.level_1))\n",
    "\n",
    "# set index to pairs\n",
    "df_corr.set_index(['pairs'], inplace = True)\n",
    "\n",
    "#d rop level columns\n",
    "df_corr.drop(columns=['level_1', 'level_0'], inplace = True)\n",
    "\n",
    "# rename correlation column as cc rather than 0\n",
    "df_corr.columns = ['cc']\n",
    "\n",
    "# drop duplicates. This could be dangerous if you have variables perfectly correlated with variables other than themselves.\n",
    "# for the sake of exercise, kept it in.\n",
    "df_corr.drop_duplicates(inplace=True)\n",
    "\n",
    "df_corr[(df_corr.cc>.75) & (df_corr.cc <1)]"
   ]
  },
  {
   "cell_type": "markdown",
   "metadata": {
    "scrolled": true
   },
   "source": [
    "We can see design_decade_grade and design_decade have a high correlation of 0.94, so there is some multicollinearity."
   ]
  },
  {
   "cell_type": "markdown",
   "metadata": {},
   "source": [
    "# Normality"
   ]
  },
  {
   "cell_type": "code",
   "execution_count": 25,
   "metadata": {},
   "outputs": [
    {
     "data": {
      "image/png": "[encoded data removed]",
      "text/plain": [
       "<Figure size 432x288 with 1 Axes>"
      ]
     },
     "metadata": {
      "needs_background": "light"
     },
     "output_type": "display_data"
    }
   ],
   "source": [
    "# Histogram of residuals\n",
    "fig, ax = plt.subplots()\n",
    "sns.histplot(model_train.resid, bins=200, element=\"step\", kde=True, ax=ax)\n",
    "ax.set_xlabel(\"Model Residuals\")\n",
    "fig.suptitle(\"Distribution\");"
   ]
  },
  {
   "cell_type": "code",
   "execution_count": 26,
   "metadata": {
    "scrolled": true
   },
   "outputs": [
    {
     "data": {
      "image/png": "[encoded data removed]",
      "text/plain": [
       "<Figure size 432x288 with 1 Axes>"
      ]
     },
     "metadata": {
      "needs_background": "light"
     },
     "output_type": "display_data"
    }
   ],
   "source": [
    "# Q-Q plot\n",
    "# Use qqplot function from StatsModels\n",
    "fig, ax = plt.subplots()\n",
    "sm.graphics.qqplot(model_train.resid, dist=stats.norm, line='45', fit=True, ax=ax)\n",
    "\n",
    "# Customize plot appearance\n",
    "line = ax.lines[1]\n",
    "line.set_color(\"black\")\n",
    "fig.suptitle(\"Distribution\");"
   ]
  },
  {
   "cell_type": "code",
   "execution_count": 28,
   "metadata": {},
   "outputs": [
    {
     "data": {
      "text/plain": [
       "(252976656.20101586, 0.0, 12.435573034886852, 580.1687072215848)"
      ]
     },
     "execution_count": 28,
     "metadata": {},
     "output_type": "execute_result"
    }
   ],
   "source": [
    "jarque_bera(model_train.resid)"
   ]
  },
  {
   "cell_type": "markdown",
   "metadata": {},
   "source": [
    "To determine the normality of the model, we can look at the histogram of residuals and QQ plot. We can also reference the Jarque-Bera test results.\n",
    "\n",
    "JB: 252976656\n",
    "\n",
    "P(JB): 0.0\n",
    "\n",
    "We can reject the null hypothesis as the residual P value is below alpha, and so the distribution is not normal.\n",
    "\n",
    "The fix is to transform non-normal features or the target by applying a log transform."
   ]
  },
  {
   "cell_type": "markdown",
   "metadata": {},
   "source": [
    "# Equal Variance(Homoskedacity)"
   ]
  },
  {
   "cell_type": "code",
   "execution_count": 30,
   "metadata": {},
   "outputs": [
    {
     "data": {
      "image/png": "[encoded data removed]",
      "text/plain": [
       "<Figure size 576x288 with 1 Axes>"
      ]
     },
     "metadata": {
      "needs_background": "light"
     },
     "output_type": "display_data"
    }
   ],
   "source": [
    "# Plotting the residuals\n",
    "plt.subplots(figsize=(8, 4))\n",
    "plt.scatter(x=y_train, y=model_train.resid, alpha=0.8)\n",
    "plt.axhline(y=0, color='darkorange', linestyle='--')\n",
    "\n",
    "plt.ylabel('Residual', fontsize=14)\n",
    "plt.xlabel('Price', fontsize=14)\n",
    "plt.title('Homescedasticity Assumption', fontsize=16)\n",
    "plt.show();"
   ]
  },
  {
   "cell_type": "code",
   "execution_count": 31,
   "metadata": {},
   "outputs": [
    {
     "data": {
      "text/plain": [
       "(0.7031817374018133, 1.2150576161378659e-62, 'two-sided')"
      ]
     },
     "execution_count": 31,
     "metadata": {},
     "output_type": "execute_result"
    }
   ],
   "source": [
    "# Goldfeld-Quandt test:\n",
    "het_goldfeldquandt(y_train, X_train, alternative='two-sided')"
   ]
  },
  {
   "cell_type": "markdown",
   "metadata": {},
   "source": [
    "For this data, we have a p value below alpha. We can reject the null hypothesis, so the model is heteroscedastic."
   ]
  },
  {
   "cell_type": "code",
   "execution_count": null,
   "metadata": {},
   "outputs": [],
   "source": []
  }
 ],
 "metadata": {
  "kernelspec": {
   "display_name": "Python (learn-env)",
   "language": "python",
   "name": "learn-env"
  },
  "language_info": {
   "codemirror_mode": {
    "name": "ipython",
    "version": 3
   },
   "file_extension": ".py",
   "mimetype": "text/x-python",
   "name": "python",
   "nbconvert_exporter": "python",
   "pygments_lexer": "ipython3",
   "version": "3.8.5"
  }
 },
 "nbformat": 4,
 "nbformat_minor": 4
}
