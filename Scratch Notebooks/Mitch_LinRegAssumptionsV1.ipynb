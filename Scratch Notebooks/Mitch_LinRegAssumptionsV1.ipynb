{
 "cells": [
  {
   "cell_type": "code",
   "execution_count": 49,
   "metadata": {},
   "outputs": [],
   "source": [
    "#import \n",
    "\n",
    "import pandas as pd\n",
    "import numpy as np\n",
    "from matplotlib import pyplot as plt\n",
    "from scipy import stats\n",
    "import seaborn as sns\n",
    "from sklearn.linear_model import LinearRegression\n",
    "from mpl_toolkits import mplot3d\n",
    "import sklearn.metrics as metrics\n",
    "import statsmodels.api as sm\n",
    "from sklearn.preprocessing import OneHotEncoder\n",
    "from sklearn.preprocessing import OrdinalEncoder\n",
    "from sklearn.impute import SimpleImputer\n",
    "from sklearn.preprocessing import PolynomialFeatures\n",
    "from sklearn.model_selection import train_test_split\n",
    "from sklearn.linear_model import LinearRegression\n",
    "\n",
    "%matplotlib inline"
   ]
  },
  {
   "cell_type": "markdown",
   "metadata": {},
   "source": [
    "### Setup most optimal model"
   ]
  },
  {
   "cell_type": "code",
   "execution_count": 50,
   "metadata": {
    "scrolled": true
   },
   "outputs": [
    {
     "name": "stderr",
     "output_type": "stream",
     "text": [
      "C:\\Users\\mitch\\anaconda3\\envs\\learn-env\\lib\\site-packages\\pandas\\core\\indexing.py:670: SettingWithCopyWarning: \n",
      "A value is trying to be set on a copy of a slice from a DataFrame\n",
      "\n",
      "See the caveats in the documentation: https://pandas.pydata.org/pandas-docs/stable/user_guide/indexing.html#returning-a-view-versus-a-copy\n",
      "  iloc._setitem_with_indexer(indexer, value)\n",
      "C:\\Users\\mitch\\anaconda3\\envs\\learn-env\\lib\\site-packages\\pandas\\core\\indexing.py:670: SettingWithCopyWarning: \n",
      "A value is trying to be set on a copy of a slice from a DataFrame\n",
      "\n",
      "See the caveats in the documentation: https://pandas.pydata.org/pandas-docs/stable/user_guide/indexing.html#returning-a-view-versus-a-copy\n",
      "  iloc._setitem_with_indexer(indexer, value)\n"
     ]
    }
   ],
   "source": [
    "df = pd.read_csv('./data/kc_house_data.csv',\n",
    "                parse_dates=['date'])\n",
    "\n",
    "df.drop(['id', 'floors',\n",
    "         'heat_source','lat','long'], axis=1, inplace=True)\n",
    "\n",
    "# Create zip from address\n",
    "df['zip'] = [x.split(',')[2][-5:] for x in df['address']] \n",
    "\n",
    "#https://www.zillow.com/browse/homes/wa/king-county/  - remove all records with zipcodes that dont start with '98'\n",
    "df = df[df.zip.str.startswith(('98'))]\n",
    "\n",
    "df['city'] = [x.split(',')[1][0:] for x in df['address']]\n",
    "\n",
    "#create sale year column from datetime date info\n",
    "df['sale_year'] = pd.DatetimeIndex(df['date']).year.astype(int)\n",
    "\n",
    "df['sale_year'].value_counts()\n",
    "\n",
    "\n",
    "#create new column - age of house\n",
    "df['home_age'] = (df['sale_year']+1) - df['yr_built']\n",
    "\n",
    "#create new column - time since reno\n",
    "df['yr_from_reno'] = (df['sale_year']+1) - df['yr_renovated']\n",
    "\n",
    "# create filter for yr_from_reno to ID houses that haven't been renovated\n",
    "reno_filter = df['yr_from_reno'] > 2000\n",
    "\n",
    "# create new column for design_age to see time since build if no reno, or time since reno if renovated\n",
    "# first set to reno age\n",
    "df['design_age'] = df['yr_from_reno']\n",
    "#then update columns where there was no reno to age of the home\n",
    "df['design_age'].loc[reno_filter] = df['home_age']\n",
    "\n",
    "#some houses were sold before they were built - we need to change those records to 0\n",
    "\n",
    "prebuild_filter = df['design_age'] < 1\n",
    "\n",
    "df['design_age'].loc[prebuild_filter] = 1\n",
    "\n",
    "\n",
    "grade_cat = df[['grade']]\n",
    "grade_categories = ['1 Cabin', '2 Substandard', '3 Poor', '4 Low', '5 Fair', '6 Low Average',\n",
    "                    '7 Average', '8 Good', '9 Better', '10 Very Good', '11 Excellent', '12 Luxury', '13 Mansion']\n",
    "encoder_grade = OrdinalEncoder(categories=[grade_categories])\n",
    "encoder_grade.fit(grade_cat)\n",
    "grade_encoded_train = encoder_grade.transform(grade_cat)\n",
    "grade_encoded_train = grade_encoded_train.flatten()\n",
    "df[\"grade\"] = grade_encoded_train"
   ]
  },
  {
   "cell_type": "code",
   "execution_count": 51,
   "metadata": {},
   "outputs": [],
   "source": [
    "df_city = df.groupby('city').count()['price'].reset_index()\n",
    "city_columns = df_city[ df_city['price'] < 30 ].transpose()\n",
    "city_columns.columns = city_columns.iloc[0]\n",
    "city_columns.columns\n",
    "\n",
    "drop_city = list(city_columns.columns)"
   ]
  },
  {
   "cell_type": "code",
   "execution_count": 52,
   "metadata": {},
   "outputs": [],
   "source": [
    "for city in drop_city:\n",
    "    df = df[~df.city.str.contains(city)]"
   ]
  },
  {
   "cell_type": "code",
   "execution_count": 53,
   "metadata": {},
   "outputs": [],
   "source": [
    "df = df.loc[df[\"grade\"] > 5 ]\n",
    "df = df.loc[df[\"grade\"] < 11 ]"
   ]
  },
  {
   "cell_type": "code",
   "execution_count": 54,
   "metadata": {},
   "outputs": [
    {
     "name": "stdout",
     "output_type": "stream",
     "text": [
      "X_train is a DataFrame with 19260 rows and 25 columns\n",
      "y_train is a Series with 19260 values\n",
      "X_test is a DataFrame with 6420 rows and 25 columns\n",
      "y_test is a Series with 6420 values\n"
     ]
    },
    {
     "name": "stderr",
     "output_type": "stream",
     "text": [
      "C:\\Users\\mitch\\anaconda3\\envs\\learn-env\\lib\\site-packages\\pandas\\core\\indexing.py:1765: SettingWithCopyWarning: \n",
      "A value is trying to be set on a copy of a slice from a DataFrame.\n",
      "Try using .loc[row_indexer,col_indexer] = value instead\n",
      "\n",
      "See the caveats in the documentation: https://pandas.pydata.org/pandas-docs/stable/user_guide/indexing.html#returning-a-view-versus-a-copy\n",
      "  isetter(loc, value)\n",
      "<ipython-input-54-6bf13d0f2aef>:20: SettingWithCopyWarning: \n",
      "A value is trying to be set on a copy of a slice from a DataFrame.\n",
      "Try using .loc[row_indexer,col_indexer] = value instead\n",
      "\n",
      "See the caveats in the documentation: https://pandas.pydata.org/pandas-docs/stable/user_guide/indexing.html#returning-a-view-versus-a-copy\n",
      "  X_train['bathrooms'] = X_train['bathrooms'].apply(np.ceil)\n",
      "<ipython-input-54-6bf13d0f2aef>:24: SettingWithCopyWarning: \n",
      "A value is trying to be set on a copy of a slice from a DataFrame.\n",
      "Try using .loc[row_indexer,col_indexer] = value instead\n",
      "\n",
      "See the caveats in the documentation: https://pandas.pydata.org/pandas-docs/stable/user_guide/indexing.html#returning-a-view-versus-a-copy\n",
      "  X_train['basement_binary'] = [1 if sq >  0  else 0 for sq in X_train['sqft_basement']]\n",
      "<ipython-input-54-6bf13d0f2aef>:25: SettingWithCopyWarning: \n",
      "A value is trying to be set on a copy of a slice from a DataFrame.\n",
      "Try using .loc[row_indexer,col_indexer] = value instead\n",
      "\n",
      "See the caveats in the documentation: https://pandas.pydata.org/pandas-docs/stable/user_guide/indexing.html#returning-a-view-versus-a-copy\n",
      "  X_train['garage_binary'] = [1 if sq >  0  else 0 for sq in X_train['sqft_garage']]\n",
      "<ipython-input-54-6bf13d0f2aef>:26: SettingWithCopyWarning: \n",
      "A value is trying to be set on a copy of a slice from a DataFrame.\n",
      "Try using .loc[row_indexer,col_indexer] = value instead\n",
      "\n",
      "See the caveats in the documentation: https://pandas.pydata.org/pandas-docs/stable/user_guide/indexing.html#returning-a-view-versus-a-copy\n",
      "  X_train['patio_binary'] = [1 if sq >  0  else 0 for sq in X_train['sqft_patio']]\n",
      "<ipython-input-54-6bf13d0f2aef>:27: SettingWithCopyWarning: \n",
      "A value is trying to be set on a copy of a slice from a DataFrame.\n",
      "Try using .loc[row_indexer,col_indexer] = value instead\n",
      "\n",
      "See the caveats in the documentation: https://pandas.pydata.org/pandas-docs/stable/user_guide/indexing.html#returning-a-view-versus-a-copy\n",
      "  X_train['waterfront_binary'] = [1 if sq == 'YES'  else 0 for sq in X_train['waterfront']]\n",
      "<ipython-input-54-6bf13d0f2aef>:28: SettingWithCopyWarning: \n",
      "A value is trying to be set on a copy of a slice from a DataFrame.\n",
      "Try using .loc[row_indexer,col_indexer] = value instead\n",
      "\n",
      "See the caveats in the documentation: https://pandas.pydata.org/pandas-docs/stable/user_guide/indexing.html#returning-a-view-versus-a-copy\n",
      "  X_train['PublicSewer_binary'] = [1 if sq == 'PUBLIC' else 0 for sq in X_train['sewer_system']]\n",
      "<ipython-input-54-6bf13d0f2aef>:29: SettingWithCopyWarning: \n",
      "A value is trying to be set on a copy of a slice from a DataFrame.\n",
      "Try using .loc[row_indexer,col_indexer] = value instead\n",
      "\n",
      "See the caveats in the documentation: https://pandas.pydata.org/pandas-docs/stable/user_guide/indexing.html#returning-a-view-versus-a-copy\n",
      "  X_train['yrenovated_binary'] = [1 if sq >  0 else 0 for sq in X_train['yr_renovated']]\n",
      "<ipython-input-54-6bf13d0f2aef>:41: SettingWithCopyWarning: \n",
      "A value is trying to be set on a copy of a slice from a DataFrame.\n",
      "Try using .loc[row_indexer,col_indexer] = value instead\n",
      "\n",
      "See the caveats in the documentation: https://pandas.pydata.org/pandas-docs/stable/user_guide/indexing.html#returning-a-view-versus-a-copy\n",
      "  X_train[\"greenbelt\"] = greenbelt_encoded_train\n",
      "<ipython-input-54-6bf13d0f2aef>:48: SettingWithCopyWarning: \n",
      "A value is trying to be set on a copy of a slice from a DataFrame.\n",
      "Try using .loc[row_indexer,col_indexer] = value instead\n",
      "\n",
      "See the caveats in the documentation: https://pandas.pydata.org/pandas-docs/stable/user_guide/indexing.html#returning-a-view-versus-a-copy\n",
      "  X_train[\"nuisance\"] = nuisance_encoded_train\n",
      "<ipython-input-54-6bf13d0f2aef>:58: SettingWithCopyWarning: \n",
      "A value is trying to be set on a copy of a slice from a DataFrame.\n",
      "Try using .loc[row_indexer,col_indexer] = value instead\n",
      "\n",
      "See the caveats in the documentation: https://pandas.pydata.org/pandas-docs/stable/user_guide/indexing.html#returning-a-view-versus-a-copy\n",
      "  X_train[\"condition\"] = condition_encoded_train\n",
      "<ipython-input-54-6bf13d0f2aef>:68: SettingWithCopyWarning: \n",
      "A value is trying to be set on a copy of a slice from a DataFrame.\n",
      "Try using .loc[row_indexer,col_indexer] = value instead\n",
      "\n",
      "See the caveats in the documentation: https://pandas.pydata.org/pandas-docs/stable/user_guide/indexing.html#returning-a-view-versus-a-copy\n",
      "  X_train[\"view\"] = view_encoded_train\n",
      "C:\\Users\\mitch\\anaconda3\\envs\\learn-env\\lib\\site-packages\\pandas\\core\\frame.py:4163: SettingWithCopyWarning: \n",
      "A value is trying to be set on a copy of a slice from a DataFrame\n",
      "\n",
      "See the caveats in the documentation: https://pandas.pydata.org/pandas-docs/stable/user_guide/indexing.html#returning-a-view-versus-a-copy\n",
      "  return super().drop(\n"
     ]
    }
   ],
   "source": [
    "y = df[\"price\"]\n",
    "X = df.drop(\"price\", axis=1)\n",
    "\n",
    "X_train, X_test, y_train, y_test = train_test_split(X, y, random_state=43)\n",
    "\n",
    "print(f\"X_train is a DataFrame with {X_train.shape[0]} rows and {X_train.shape[1]} columns\")\n",
    "print(f\"y_train is a Series with {y_train.shape[0]} values\")\n",
    "\n",
    "print(f\"X_test is a DataFrame with {X_test.shape[0]} rows and {X_test.shape[1]} columns\")\n",
    "print(f\"y_test is a Series with {y_test.shape[0]} values\")\n",
    "\n",
    "model = LinearRegression()\n",
    "\n",
    "## Building Training Transformations\n",
    "\n",
    "df.grade.value_counts()\n",
    "\n",
    "# Quasi-categorical(0.5 + 0.5 bathrooms != 1 bathroom). Change 0 bathroom to 1 bathroom. Round up other values.\n",
    "X_train.loc[df['bathrooms'] == 0, 'bathrooms'] = 1\n",
    "X_train['bathrooms'] = X_train['bathrooms'].apply(np.ceil)\n",
    "\n",
    "\n",
    "# Create binary substitutes for columns\n",
    "X_train['basement_binary'] = [1 if sq >  0  else 0 for sq in X_train['sqft_basement']]\n",
    "X_train['garage_binary'] = [1 if sq >  0  else 0 for sq in X_train['sqft_garage']]\n",
    "X_train['patio_binary'] = [1 if sq >  0  else 0 for sq in X_train['sqft_patio']]\n",
    "X_train['waterfront_binary'] = [1 if sq == 'YES'  else 0 for sq in X_train['waterfront']]\n",
    "X_train['PublicSewer_binary'] = [1 if sq == 'PUBLIC' else 0 for sq in X_train['sewer_system']]\n",
    "X_train['yrenovated_binary'] = [1 if sq >  0 else 0 for sq in X_train['yr_renovated']]\n",
    "\n",
    "\n",
    "# Create binary values for greenbelt, nuisance\n",
    "# Using OneHotEncoder\n",
    "\n",
    "greenbelt_cat = X_train[['greenbelt']]\n",
    "encoder_greenbelt = OrdinalEncoder(categories=[['NO', 'YES']])\n",
    "encoder_greenbelt.fit(greenbelt_cat)\n",
    "greenbelt_encoded_train = encoder_greenbelt.transform(greenbelt_cat)\n",
    "greenbelt_encoded_train = greenbelt_encoded_train.flatten()\n",
    "# greenbelt_encoded_train\n",
    "X_train[\"greenbelt\"] = greenbelt_encoded_train\n",
    "\n",
    "nuisance_cat = X_train[['nuisance']]\n",
    "encoder_nuisance = OrdinalEncoder()\n",
    "encoder_nuisance.fit(nuisance_cat)\n",
    "nuisance_encoded_train = encoder_nuisance.transform(nuisance_cat)\n",
    "nuisance_encoded_train = nuisance_encoded_train.flatten()\n",
    "X_train[\"nuisance\"] = nuisance_encoded_train\n",
    "\n",
    "# Create Ordinal Values for condition\n",
    "# Using OneHotEncoder\n",
    "condition_cat = X_train[['condition']]\n",
    "condition_categories = ['Poor', 'Fair', 'Average', 'Good', 'Very Good']\n",
    "encoder_condition = OrdinalEncoder(categories=[condition_categories])\n",
    "encoder_condition.fit(condition_cat)\n",
    "condition_encoded_train = encoder_condition.transform(condition_cat)\n",
    "condition_encoded_train = condition_encoded_train.flatten()\n",
    "X_train[\"condition\"] = condition_encoded_train\n",
    "\n",
    "# Create Ordinal Values for view\n",
    "# Using OneHotEncoder\n",
    "view_cat = X_train[['view']]\n",
    "view_categories = ['NONE', 'FAIR', 'AVERAGE', 'GOOD', 'EXCELLENT']\n",
    "encoder_view = OrdinalEncoder(categories=[view_categories])\n",
    "encoder_view.fit(view_cat)\n",
    "view_encoded_train = encoder_view.transform(view_cat)\n",
    "view_encoded_train = view_encoded_train.flatten()\n",
    "X_train[\"view\"] = view_encoded_train\n",
    "\n",
    "\n",
    "# (1) Create a variable zip\n",
    "# extracted from df\n",
    "# (double brackets due to shape expected by OHE)\n",
    "city_train = X_train[[\"city\"]]\n",
    "\n",
    "ohe = OneHotEncoder(categories=\"auto\",\n",
    "                    sparse=False,\n",
    "                    handle_unknown=\"ignore\")\n",
    "\n",
    "# (3) Fit the encoder on fireplace_qu_train\n",
    "ohe.fit(city_train)\n",
    "\n",
    "# (2) Instantiate a OneHotEncoder with categories=\"auto\",\n",
    "# sparse=False, and handle_unknown=\"ignore\"\n",
    "city_encoded_train = ohe.transform(city_train)\n",
    "\n",
    "# Replace None with appropriate code\n",
    "\n",
    "# (4) Transform fireplace_qu_train using the encoder and\n",
    "# assign the result to fireplace_qu_encoded_train\n",
    "city_encoded_train = ohe.transform(city_train)\n",
    "\n",
    "# Visually inspect fireplace_qu_encoded_train\n",
    "city_encoded_train\n",
    "\n",
    "# (5a) Make the transformed data into a dataframe\n",
    "city_encoded_train = pd.DataFrame(\n",
    "    # Pass in NumPy array\n",
    "    city_encoded_train,\n",
    "    # Set the column names to the categories found by OHE\n",
    "    columns=ohe.categories_[0],\n",
    "    # Set the index to match X_test's index\n",
    "    index=X_train.index\n",
    ")\n",
    "\n",
    "# Run this cell without changes\n",
    "\n",
    "# (5b) Drop original FireplaceQu column\n",
    "X_train.drop(\"city\", axis=1, inplace=True)\n",
    "\n",
    "# Run this cell without changes\n",
    "\n",
    "# (5c) Concatenate the new dataframe with current X_train\n",
    "X_train = pd.concat([X_train, city_encoded_train], axis=1)\n",
    "\n",
    "# Visually inspect X_train\n",
    "X_train.head()\n",
    "\n",
    "# (1) Create a variable zip\n",
    "# extracted from df\n",
    "# (double brackets due to shape expected by OHE)\n",
    "fireplace_qu_train = X_train[[\"zip\"]]\n",
    "\n",
    "# (2) Instantiate a OneHotEncoder with categories=\"auto\",\n",
    "# sparse=False, and handle_unknown=\"ignore\"\n",
    "ohe = OneHotEncoder(categories=\"auto\",\n",
    "                    sparse=False,\n",
    "                    handle_unknown=\"ignore\")\n",
    "\n",
    "# (3) Fit the encoder on fireplace_qu_train\n",
    "ohe.fit(fireplace_qu_train)\n",
    "\n",
    "# Inspect the categories of the fitted encoder\n",
    "ohe.categories_\n",
    "\n",
    "# Replace None with appropriate code\n",
    "\n",
    "# (4) Transform fireplace_qu_train using the encoder and\n",
    "# assign the result to fireplace_qu_encoded_train\n",
    "fireplace_qu_encoded_train = ohe.transform(fireplace_qu_train)\n",
    "\n",
    "# Visually inspect fireplace_qu_encoded_train\n",
    "fireplace_qu_encoded_train\n",
    "\n",
    "# Run this cell without changes\n",
    "\n",
    "# (5a) Make the transformed data into a dataframe\n",
    "fireplace_qu_encoded_train = pd.DataFrame(\n",
    "    # Pass in NumPy array\n",
    "    fireplace_qu_encoded_train,\n",
    "    # Set the column names to the categories found by OHE\n",
    "    columns=ohe.categories_[0],\n",
    "    # Set the index to match X_train's index\n",
    "    index=X_train.index\n",
    ")\n",
    "\n",
    "# Visually inspect new dataframe\n",
    "fireplace_qu_encoded_train\n",
    "\n",
    "# Run this cell without changes\n",
    "\n",
    "# (5b) Drop original FireplaceQu column\n",
    "X_train.drop(\"zip\", axis=1, inplace=True)\n",
    "\n",
    "# Visually inspect X_train\n",
    "\n",
    "# Run this cell without changes\n",
    "\n",
    "# (5c) Concatenate the new dataframe with current X_train\n",
    "X_train = pd.concat([X_train, fireplace_qu_encoded_train], axis=1)\n",
    "\n",
    "# Visually inspect X_train\n",
    "X_train.head()\n",
    "\n",
    "# Create 'total_sqft' by combining sqft_above + sqft_basement + \n",
    "# sqft_garage + sqft_patio\n",
    "X_train['total_sqft'] = X_train['sqft_above'] + X_train['sqft_basement'] + X_train['sqft_garage'] + X_train['sqft_patio']\n",
    "\n",
    "X_train['weighted__livsqft'] = X_train['sqft_living'] * X_train['grade']\n",
    "\n",
    "X_train['date'] = pd.to_datetime(X_train['date'], format='%Y-%m-%d')\n",
    "\n",
    "X_train['date'].head()\n",
    "\n",
    "#create sale year column from datetime date info\n",
    "X_train['sale_year'] = pd.DatetimeIndex(X_train['date']).year.astype(int)\n",
    "\n",
    "X_train['sale_year'].value_counts()\n",
    "\n",
    "#Binning by decade\n",
    "\n",
    "X_train['design_decade'] = pd.cut(x=X_train['design_age'], bins=[0, 3, 13, 23, 33, 43, 53, 63, 73,\n",
    "                                                         83, 93, 103, 113, 123],\n",
    "                    labels=['2020s', '2010s', '2000s', '1990s', '1980s', '1970s', '1960s',\n",
    "                            '1950s', '1940s', '1930s', '1920s', '1910s', '1900s'])\n",
    "\n",
    "X_train.design_decade.value_counts()\n",
    "\n",
    "labels_ordered = ['2020s', '2010s', '2000s', '1990s', '1980s', '1970s', '1960s','1950s', '1940s', '1930s', '1920s', '1910s', '1900s']\n",
    "\n",
    "labels_ordered.reverse()\n",
    "\n",
    "labels_ordered\n",
    "\n",
    "# Create Ordinal Values for view\n",
    "# Using OneHotEncoder\n",
    "age_cat = X_train[['design_decade']]\n",
    "age_categories = labels_ordered\n",
    "encoder_age = OrdinalEncoder(categories=[age_categories])\n",
    "encoder_age.fit(age_cat)\n",
    "encoder_age.categories_[0]\n",
    "\n",
    "age_encoded_train = encoder_age.transform(age_cat)\n",
    "age_encoded_train = age_encoded_train.flatten()\n",
    "X_train[\"design_decade\"] = age_encoded_train\n",
    "\n",
    "X_train[\"design_decade\"]\n",
    "\n",
    "X_train['yard_size_ratio'] = (X_train['total_sqft'] / X_train['sqft_lot']) * 100\n",
    "\n",
    "# list(X_train.columns)"
   ]
  },
  {
   "cell_type": "code",
   "execution_count": 55,
   "metadata": {},
   "outputs": [],
   "source": [
    "relevant = ['view', 'condition', ' Algona', ' Auburn', ' Bellevue', ' Black Diamond', ' Bothell', ' Burien',\n",
    "            ' Carnation', ' Clyde Hill', ' Covington', ' Des Moines', ' Duvall', ' Enumclaw', ' Fall City',\n",
    "            ' Federal Way', ' Issaquah', ' Kenmore', ' Kent', ' Kirkland', ' Lake Forest Park', ' Maple Valley',\n",
    "            ' Medina', ' Mercer Island', ' Newcastle', ' Normandy Park', ' North Bend', ' Pacific', ' Ravensdale',\n",
    "            ' Redmond', ' Renton', ' Sammamish', ' SeaTac', ' Seattle', ' Shoreline', ' Snoqualmie', ' Tukwila',\n",
    "            ' Vashon', ' Woodinville', 'greenbelt', 'weighted__livsqft', 'design_decade', 'nuisance','garage_binary',\n",
    "            'basement_binary', 'patio_binary','PublicSewer_binary', 'waterfront_binary', 'yard_size_ratio']\n",
    "\n",
    "X_train = X_train[relevant]"
   ]
  },
  {
   "cell_type": "code",
   "execution_count": 56,
   "metadata": {},
   "outputs": [
    {
     "data": {
      "text/html": [
       "<table class=\"simpletable\">\n",
       "<caption>OLS Regression Results</caption>\n",
       "<tr>\n",
       "  <th>Dep. Variable:</th>          <td>price</td>      <th>  R-squared:         </th>  <td>   0.685</td>  \n",
       "</tr>\n",
       "<tr>\n",
       "  <th>Model:</th>                   <td>OLS</td>       <th>  Adj. R-squared:    </th>  <td>   0.684</td>  \n",
       "</tr>\n",
       "<tr>\n",
       "  <th>Method:</th>             <td>Least Squares</td>  <th>  F-statistic:       </th>  <td>   869.5</td>  \n",
       "</tr>\n",
       "<tr>\n",
       "  <th>Date:</th>             <td>Wed, 03 Aug 2022</td> <th>  Prob (F-statistic):</th>   <td>  0.00</td>   \n",
       "</tr>\n",
       "<tr>\n",
       "  <th>Time:</th>                 <td>14:14:04</td>     <th>  Log-Likelihood:    </th> <td>-2.7753e+05</td>\n",
       "</tr>\n",
       "<tr>\n",
       "  <th>No. Observations:</th>      <td> 19260</td>      <th>  AIC:               </th>  <td>5.552e+05</td> \n",
       "</tr>\n",
       "<tr>\n",
       "  <th>Df Residuals:</th>          <td> 19211</td>      <th>  BIC:               </th>  <td>5.555e+05</td> \n",
       "</tr>\n",
       "<tr>\n",
       "  <th>Df Model:</th>              <td>    48</td>      <th>                     </th>      <td> </td>     \n",
       "</tr>\n",
       "<tr>\n",
       "  <th>Covariance Type:</th>      <td>nonrobust</td>    <th>                     </th>      <td> </td>     \n",
       "</tr>\n",
       "</table>\n",
       "<table class=\"simpletable\">\n",
       "<tr>\n",
       "           <td></td>             <th>coef</th>     <th>std err</th>      <th>t</th>      <th>P>|t|</th>  <th>[0.025</th>    <th>0.975]</th>  \n",
       "</tr>\n",
       "<tr>\n",
       "  <th>const</th>              <td> 2.377e+05</td> <td> 2.31e+04</td> <td>   10.271</td> <td> 0.000</td> <td> 1.92e+05</td> <td> 2.83e+05</td>\n",
       "</tr>\n",
       "<tr>\n",
       "  <th>view</th>               <td> 8.339e+04</td> <td> 4280.153</td> <td>   19.484</td> <td> 0.000</td> <td>  7.5e+04</td> <td> 9.18e+04</td>\n",
       "</tr>\n",
       "<tr>\n",
       "  <th>condition</th>          <td> 5.032e+04</td> <td> 5144.597</td> <td>    9.781</td> <td> 0.000</td> <td> 4.02e+04</td> <td> 6.04e+04</td>\n",
       "</tr>\n",
       "<tr>\n",
       "  <th> Algona</th>            <td>-3.962e+05</td> <td> 9.35e+04</td> <td>   -4.236</td> <td> 0.000</td> <td> -5.8e+05</td> <td>-2.13e+05</td>\n",
       "</tr>\n",
       "<tr>\n",
       "  <th> Auburn</th>            <td>-4.742e+05</td> <td> 1.53e+04</td> <td>  -30.913</td> <td> 0.000</td> <td>-5.04e+05</td> <td>-4.44e+05</td>\n",
       "</tr>\n",
       "<tr>\n",
       "  <th> Bellevue</th>          <td> 5.248e+05</td> <td>  1.5e+04</td> <td>   35.053</td> <td> 0.000</td> <td> 4.95e+05</td> <td> 5.54e+05</td>\n",
       "</tr>\n",
       "<tr>\n",
       "  <th> Black Diamond</th>     <td>-5.064e+05</td> <td> 3.17e+04</td> <td>  -15.973</td> <td> 0.000</td> <td>-5.69e+05</td> <td>-4.44e+05</td>\n",
       "</tr>\n",
       "<tr>\n",
       "  <th> Bothell</th>           <td> 2.388e+04</td> <td> 3.08e+04</td> <td>    0.775</td> <td> 0.438</td> <td>-3.65e+04</td> <td> 8.43e+04</td>\n",
       "</tr>\n",
       "<tr>\n",
       "  <th> Burien</th>            <td>  -2.8e+05</td> <td> 2.56e+04</td> <td>  -10.939</td> <td> 0.000</td> <td> -3.3e+05</td> <td> -2.3e+05</td>\n",
       "</tr>\n",
       "<tr>\n",
       "  <th> Carnation</th>         <td>-2.283e+05</td> <td> 4.37e+04</td> <td>   -5.220</td> <td> 0.000</td> <td>-3.14e+05</td> <td>-1.43e+05</td>\n",
       "</tr>\n",
       "<tr>\n",
       "  <th> Clyde Hill</th>        <td> 2.343e+06</td> <td> 6.31e+04</td> <td>   37.112</td> <td> 0.000</td> <td> 2.22e+06</td> <td> 2.47e+06</td>\n",
       "</tr>\n",
       "<tr>\n",
       "  <th> Covington</th>         <td>-3.944e+05</td> <td> 2.44e+04</td> <td>  -16.178</td> <td> 0.000</td> <td>-4.42e+05</td> <td>-3.47e+05</td>\n",
       "</tr>\n",
       "<tr>\n",
       "  <th> Des Moines</th>        <td> -3.61e+05</td> <td> 2.66e+04</td> <td>  -13.594</td> <td> 0.000</td> <td>-4.13e+05</td> <td>-3.09e+05</td>\n",
       "</tr>\n",
       "<tr>\n",
       "  <th> Duvall</th>            <td>-1.968e+05</td> <td> 3.23e+04</td> <td>   -6.096</td> <td> 0.000</td> <td> -2.6e+05</td> <td>-1.34e+05</td>\n",
       "</tr>\n",
       "<tr>\n",
       "  <th> Enumclaw</th>          <td>-4.726e+05</td> <td> 2.77e+04</td> <td>  -17.081</td> <td> 0.000</td> <td>-5.27e+05</td> <td>-4.18e+05</td>\n",
       "</tr>\n",
       "<tr>\n",
       "  <th> Fall City</th>         <td> 2.178e+05</td> <td>  5.4e+04</td> <td>    4.034</td> <td> 0.000</td> <td> 1.12e+05</td> <td> 3.24e+05</td>\n",
       "</tr>\n",
       "<tr>\n",
       "  <th> Federal Way</th>       <td>-4.902e+05</td> <td> 1.66e+04</td> <td>  -29.587</td> <td> 0.000</td> <td>-5.23e+05</td> <td>-4.58e+05</td>\n",
       "</tr>\n",
       "<tr>\n",
       "  <th> Issaquah</th>          <td> 1.104e+05</td> <td> 2.28e+04</td> <td>    4.846</td> <td> 0.000</td> <td> 6.58e+04</td> <td> 1.55e+05</td>\n",
       "</tr>\n",
       "<tr>\n",
       "  <th> Kenmore</th>           <td> -4.05e+04</td> <td> 2.86e+04</td> <td>   -1.417</td> <td> 0.156</td> <td>-9.65e+04</td> <td> 1.55e+04</td>\n",
       "</tr>\n",
       "<tr>\n",
       "  <th> Kent</th>              <td>-4.217e+05</td> <td> 1.44e+04</td> <td>  -29.212</td> <td> 0.000</td> <td> -4.5e+05</td> <td>-3.93e+05</td>\n",
       "</tr>\n",
       "<tr>\n",
       "  <th> Kirkland</th>          <td> 4.309e+05</td> <td> 1.56e+04</td> <td>   27.685</td> <td> 0.000</td> <td>    4e+05</td> <td> 4.61e+05</td>\n",
       "</tr>\n",
       "<tr>\n",
       "  <th> Lake Forest Park</th>  <td>-7.217e+04</td> <td> 3.48e+04</td> <td>   -2.072</td> <td> 0.038</td> <td> -1.4e+05</td> <td>-3888.346</td>\n",
       "</tr>\n",
       "<tr>\n",
       "  <th> Maple Valley</th>      <td>  -3.5e+05</td> <td> 1.84e+04</td> <td>  -18.980</td> <td> 0.000</td> <td>-3.86e+05</td> <td>-3.14e+05</td>\n",
       "</tr>\n",
       "<tr>\n",
       "  <th> Medina</th>            <td> 2.654e+06</td> <td> 7.39e+04</td> <td>   35.939</td> <td> 0.000</td> <td> 2.51e+06</td> <td>  2.8e+06</td>\n",
       "</tr>\n",
       "<tr>\n",
       "  <th> Mercer Island</th>     <td>  7.22e+05</td> <td> 2.81e+04</td> <td>   25.726</td> <td> 0.000</td> <td> 6.67e+05</td> <td> 7.77e+05</td>\n",
       "</tr>\n",
       "<tr>\n",
       "  <th> Newcastle</th>         <td>-1.526e+04</td> <td> 3.74e+04</td> <td>   -0.408</td> <td> 0.683</td> <td>-8.86e+04</td> <td>  5.8e+04</td>\n",
       "</tr>\n",
       "<tr>\n",
       "  <th> Normandy Park</th>     <td> -3.29e+05</td> <td> 4.92e+04</td> <td>   -6.682</td> <td> 0.000</td> <td>-4.26e+05</td> <td>-2.33e+05</td>\n",
       "</tr>\n",
       "<tr>\n",
       "  <th> North Bend</th>        <td>-2.331e+05</td> <td> 2.42e+04</td> <td>   -9.639</td> <td> 0.000</td> <td>-2.81e+05</td> <td>-1.86e+05</td>\n",
       "</tr>\n",
       "<tr>\n",
       "  <th> Pacific</th>           <td>-3.795e+05</td> <td> 6.35e+04</td> <td>   -5.980</td> <td> 0.000</td> <td>-5.04e+05</td> <td>-2.55e+05</td>\n",
       "</tr>\n",
       "<tr>\n",
       "  <th> Ravensdale</th>        <td>-3.621e+05</td> <td> 7.01e+04</td> <td>   -5.165</td> <td> 0.000</td> <td>-4.99e+05</td> <td>-2.25e+05</td>\n",
       "</tr>\n",
       "<tr>\n",
       "  <th> Redmond</th>           <td> 2.896e+05</td> <td> 1.75e+04</td> <td>   16.589</td> <td> 0.000</td> <td> 2.55e+05</td> <td> 3.24e+05</td>\n",
       "</tr>\n",
       "<tr>\n",
       "  <th> Renton</th>            <td>-2.867e+05</td> <td> 1.38e+04</td> <td>  -20.739</td> <td> 0.000</td> <td>-3.14e+05</td> <td> -2.6e+05</td>\n",
       "</tr>\n",
       "<tr>\n",
       "  <th> Sammamish</th>         <td> 1.925e+05</td> <td> 1.75e+04</td> <td>   10.986</td> <td> 0.000</td> <td> 1.58e+05</td> <td> 2.27e+05</td>\n",
       "</tr>\n",
       "<tr>\n",
       "  <th> SeaTac</th>            <td>-3.703e+05</td> <td> 3.71e+04</td> <td>   -9.989</td> <td> 0.000</td> <td>-4.43e+05</td> <td>-2.98e+05</td>\n",
       "</tr>\n",
       "<tr>\n",
       "  <th> Seattle</th>           <td> 1.106e+05</td> <td> 1.08e+04</td> <td>   10.248</td> <td> 0.000</td> <td> 8.95e+04</td> <td> 1.32e+05</td>\n",
       "</tr>\n",
       "<tr>\n",
       "  <th> Shoreline</th>         <td>-1.006e+05</td> <td> 2.08e+04</td> <td>   -4.843</td> <td> 0.000</td> <td>-1.41e+05</td> <td>-5.99e+04</td>\n",
       "</tr>\n",
       "<tr>\n",
       "  <th> Snoqualmie</th>        <td>-7.459e+04</td> <td> 3.19e+04</td> <td>   -2.339</td> <td> 0.019</td> <td>-1.37e+05</td> <td>-1.21e+04</td>\n",
       "</tr>\n",
       "<tr>\n",
       "  <th> Tukwila</th>           <td>-3.609e+05</td> <td> 4.77e+04</td> <td>   -7.571</td> <td> 0.000</td> <td>-4.54e+05</td> <td>-2.67e+05</td>\n",
       "</tr>\n",
       "<tr>\n",
       "  <th> Vashon</th>            <td>-3.023e+05</td> <td> 4.48e+04</td> <td>   -6.742</td> <td> 0.000</td> <td> -3.9e+05</td> <td>-2.14e+05</td>\n",
       "</tr>\n",
       "<tr>\n",
       "  <th> Woodinville</th>       <td> 1.165e+05</td> <td> 2.28e+04</td> <td>    5.119</td> <td> 0.000</td> <td> 7.19e+04</td> <td> 1.61e+05</td>\n",
       "</tr>\n",
       "<tr>\n",
       "  <th>greenbelt</th>          <td> -2.37e+04</td> <td> 1.96e+04</td> <td>   -1.208</td> <td> 0.227</td> <td>-6.21e+04</td> <td> 1.48e+04</td>\n",
       "</tr>\n",
       "<tr>\n",
       "  <th>weighted__livsqft</th>  <td>   50.8881</td> <td>    0.443</td> <td>  114.772</td> <td> 0.000</td> <td>   50.019</td> <td>   51.757</td>\n",
       "</tr>\n",
       "<tr>\n",
       "  <th>design_decade</th>      <td>-1186.9611</td> <td> 1605.688</td> <td>   -0.739</td> <td> 0.460</td> <td>-4334.250</td> <td> 1960.327</td>\n",
       "</tr>\n",
       "<tr>\n",
       "  <th>nuisance</th>           <td>-2.597e+04</td> <td> 8837.730</td> <td>   -2.939</td> <td> 0.003</td> <td>-4.33e+04</td> <td>-8650.587</td>\n",
       "</tr>\n",
       "<tr>\n",
       "  <th>garage_binary</th>      <td>-2.324e+04</td> <td> 8355.467</td> <td>   -2.781</td> <td> 0.005</td> <td>-3.96e+04</td> <td>-6862.831</td>\n",
       "</tr>\n",
       "<tr>\n",
       "  <th>basement_binary</th>    <td>-5.018e+04</td> <td> 7635.472</td> <td>   -6.572</td> <td> 0.000</td> <td>-6.51e+04</td> <td>-3.52e+04</td>\n",
       "</tr>\n",
       "<tr>\n",
       "  <th>patio_binary</th>       <td> 4011.6308</td> <td> 8349.704</td> <td>    0.480</td> <td> 0.631</td> <td>-1.24e+04</td> <td> 2.04e+04</td>\n",
       "</tr>\n",
       "<tr>\n",
       "  <th>PublicSewer_binary</th> <td> 4.909e+04</td> <td>  1.1e+04</td> <td>    4.442</td> <td> 0.000</td> <td> 2.74e+04</td> <td> 7.07e+04</td>\n",
       "</tr>\n",
       "<tr>\n",
       "  <th>waterfront_binary</th>  <td>  7.88e+05</td> <td> 2.83e+04</td> <td>   27.822</td> <td> 0.000</td> <td> 7.33e+05</td> <td> 8.44e+05</td>\n",
       "</tr>\n",
       "<tr>\n",
       "  <th>yard_size_ratio</th>    <td> -625.8789</td> <td>   98.935</td> <td>   -6.326</td> <td> 0.000</td> <td> -819.800</td> <td> -431.958</td>\n",
       "</tr>\n",
       "</table>\n",
       "<table class=\"simpletable\">\n",
       "<tr>\n",
       "  <th>Omnibus:</th>       <td>18445.151</td> <th>  Durbin-Watson:     </th>  <td>   2.001</td>  \n",
       "</tr>\n",
       "<tr>\n",
       "  <th>Prob(Omnibus):</th>  <td> 0.000</td>   <th>  Jarque-Bera (JB):  </th> <td>3612130.458</td>\n",
       "</tr>\n",
       "<tr>\n",
       "  <th>Skew:</th>           <td> 4.129</td>   <th>  Prob(JB):          </th>  <td>    0.00</td>  \n",
       "</tr>\n",
       "<tr>\n",
       "  <th>Kurtosis:</th>       <td>69.580</td>   <th>  Cond. No.          </th>  <td>1.33e+17</td>  \n",
       "</tr>\n",
       "</table><br/><br/>Notes:<br/>[1] Standard Errors assume that the covariance matrix of the errors is correctly specified.<br/>[2] The smallest eigenvalue is 3.56e-22. This might indicate that there are<br/>strong multicollinearity problems or that the design matrix is singular."
      ],
      "text/plain": [
       "<class 'statsmodels.iolib.summary.Summary'>\n",
       "\"\"\"\n",
       "                            OLS Regression Results                            \n",
       "==============================================================================\n",
       "Dep. Variable:                  price   R-squared:                       0.685\n",
       "Model:                            OLS   Adj. R-squared:                  0.684\n",
       "Method:                 Least Squares   F-statistic:                     869.5\n",
       "Date:                Wed, 03 Aug 2022   Prob (F-statistic):               0.00\n",
       "Time:                        14:14:04   Log-Likelihood:            -2.7753e+05\n",
       "No. Observations:               19260   AIC:                         5.552e+05\n",
       "Df Residuals:                   19211   BIC:                         5.555e+05\n",
       "Df Model:                          48                                         \n",
       "Covariance Type:            nonrobust                                         \n",
       "======================================================================================\n",
       "                         coef    std err          t      P>|t|      [0.025      0.975]\n",
       "--------------------------------------------------------------------------------------\n",
       "const               2.377e+05   2.31e+04     10.271      0.000    1.92e+05    2.83e+05\n",
       "view                8.339e+04   4280.153     19.484      0.000     7.5e+04    9.18e+04\n",
       "condition           5.032e+04   5144.597      9.781      0.000    4.02e+04    6.04e+04\n",
       " Algona            -3.962e+05   9.35e+04     -4.236      0.000    -5.8e+05   -2.13e+05\n",
       " Auburn            -4.742e+05   1.53e+04    -30.913      0.000   -5.04e+05   -4.44e+05\n",
       " Bellevue           5.248e+05    1.5e+04     35.053      0.000    4.95e+05    5.54e+05\n",
       " Black Diamond     -5.064e+05   3.17e+04    -15.973      0.000   -5.69e+05   -4.44e+05\n",
       " Bothell            2.388e+04   3.08e+04      0.775      0.438   -3.65e+04    8.43e+04\n",
       " Burien              -2.8e+05   2.56e+04    -10.939      0.000    -3.3e+05    -2.3e+05\n",
       " Carnation         -2.283e+05   4.37e+04     -5.220      0.000   -3.14e+05   -1.43e+05\n",
       " Clyde Hill         2.343e+06   6.31e+04     37.112      0.000    2.22e+06    2.47e+06\n",
       " Covington         -3.944e+05   2.44e+04    -16.178      0.000   -4.42e+05   -3.47e+05\n",
       " Des Moines         -3.61e+05   2.66e+04    -13.594      0.000   -4.13e+05   -3.09e+05\n",
       " Duvall            -1.968e+05   3.23e+04     -6.096      0.000    -2.6e+05   -1.34e+05\n",
       " Enumclaw          -4.726e+05   2.77e+04    -17.081      0.000   -5.27e+05   -4.18e+05\n",
       " Fall City          2.178e+05    5.4e+04      4.034      0.000    1.12e+05    3.24e+05\n",
       " Federal Way       -4.902e+05   1.66e+04    -29.587      0.000   -5.23e+05   -4.58e+05\n",
       " Issaquah           1.104e+05   2.28e+04      4.846      0.000    6.58e+04    1.55e+05\n",
       " Kenmore            -4.05e+04   2.86e+04     -1.417      0.156   -9.65e+04    1.55e+04\n",
       " Kent              -4.217e+05   1.44e+04    -29.212      0.000    -4.5e+05   -3.93e+05\n",
       " Kirkland           4.309e+05   1.56e+04     27.685      0.000       4e+05    4.61e+05\n",
       " Lake Forest Park  -7.217e+04   3.48e+04     -2.072      0.038    -1.4e+05   -3888.346\n",
       " Maple Valley        -3.5e+05   1.84e+04    -18.980      0.000   -3.86e+05   -3.14e+05\n",
       " Medina             2.654e+06   7.39e+04     35.939      0.000    2.51e+06     2.8e+06\n",
       " Mercer Island       7.22e+05   2.81e+04     25.726      0.000    6.67e+05    7.77e+05\n",
       " Newcastle         -1.526e+04   3.74e+04     -0.408      0.683   -8.86e+04     5.8e+04\n",
       " Normandy Park      -3.29e+05   4.92e+04     -6.682      0.000   -4.26e+05   -2.33e+05\n",
       " North Bend        -2.331e+05   2.42e+04     -9.639      0.000   -2.81e+05   -1.86e+05\n",
       " Pacific           -3.795e+05   6.35e+04     -5.980      0.000   -5.04e+05   -2.55e+05\n",
       " Ravensdale        -3.621e+05   7.01e+04     -5.165      0.000   -4.99e+05   -2.25e+05\n",
       " Redmond            2.896e+05   1.75e+04     16.589      0.000    2.55e+05    3.24e+05\n",
       " Renton            -2.867e+05   1.38e+04    -20.739      0.000   -3.14e+05    -2.6e+05\n",
       " Sammamish          1.925e+05   1.75e+04     10.986      0.000    1.58e+05    2.27e+05\n",
       " SeaTac            -3.703e+05   3.71e+04     -9.989      0.000   -4.43e+05   -2.98e+05\n",
       " Seattle            1.106e+05   1.08e+04     10.248      0.000    8.95e+04    1.32e+05\n",
       " Shoreline         -1.006e+05   2.08e+04     -4.843      0.000   -1.41e+05   -5.99e+04\n",
       " Snoqualmie        -7.459e+04   3.19e+04     -2.339      0.019   -1.37e+05   -1.21e+04\n",
       " Tukwila           -3.609e+05   4.77e+04     -7.571      0.000   -4.54e+05   -2.67e+05\n",
       " Vashon            -3.023e+05   4.48e+04     -6.742      0.000    -3.9e+05   -2.14e+05\n",
       " Woodinville        1.165e+05   2.28e+04      5.119      0.000    7.19e+04    1.61e+05\n",
       "greenbelt           -2.37e+04   1.96e+04     -1.208      0.227   -6.21e+04    1.48e+04\n",
       "weighted__livsqft     50.8881      0.443    114.772      0.000      50.019      51.757\n",
       "design_decade      -1186.9611   1605.688     -0.739      0.460   -4334.250    1960.327\n",
       "nuisance           -2.597e+04   8837.730     -2.939      0.003   -4.33e+04   -8650.587\n",
       "garage_binary      -2.324e+04   8355.467     -2.781      0.005   -3.96e+04   -6862.831\n",
       "basement_binary    -5.018e+04   7635.472     -6.572      0.000   -6.51e+04   -3.52e+04\n",
       "patio_binary        4011.6308   8349.704      0.480      0.631   -1.24e+04    2.04e+04\n",
       "PublicSewer_binary  4.909e+04    1.1e+04      4.442      0.000    2.74e+04    7.07e+04\n",
       "waterfront_binary    7.88e+05   2.83e+04     27.822      0.000    7.33e+05    8.44e+05\n",
       "yard_size_ratio     -625.8789     98.935     -6.326      0.000    -819.800    -431.958\n",
       "==============================================================================\n",
       "Omnibus:                    18445.151   Durbin-Watson:                   2.001\n",
       "Prob(Omnibus):                  0.000   Jarque-Bera (JB):          3612130.458\n",
       "Skew:                           4.129   Prob(JB):                         0.00\n",
       "Kurtosis:                      69.580   Cond. No.                     1.33e+17\n",
       "==============================================================================\n",
       "\n",
       "Notes:\n",
       "[1] Standard Errors assume that the covariance matrix of the errors is correctly specified.\n",
       "[2] The smallest eigenvalue is 3.56e-22. This might indicate that there are\n",
       "strong multicollinearity problems or that the design matrix is singular.\n",
       "\"\"\""
      ]
     },
     "execution_count": 56,
     "metadata": {},
     "output_type": "execute_result"
    }
   ],
   "source": [
    "model_1 = sm.OLS(y_train, sm.add_constant(X_train)).fit()\n",
    "results = model_1.summary()\n",
    "results"
   ]
  },
  {
   "cell_type": "markdown",
   "metadata": {},
   "source": [
    "4 assumptions of linear regression:\n",
    "\n",
    "(i) linearity and additivity of the relationship between dependent and independent variables:\n",
    "\n",
    "    (a) The expected value of dependent variable is a straight-line function of each independent variable, holding the others fixed.\n",
    "\n",
    "    (b) The slope of that line does not depend on the values of the other variables.\n",
    "\n",
    "    (c)  The effects of different independent variables on the expected value of the dependent variable are additive.\n",
    "\n",
    "(ii) statistical independence of the errors (in particular, no correlation between consecutive errors in the case of time series data)\n",
    "\n",
    "(iii) homoscedasticity (constant variance) of the errors\n",
    "\n",
    "    (a) versus time (in the case of time series data)\n",
    "\n",
    "    (b) versus the predictions\n",
    "\n",
    "    (c) versus any independent variable\n",
    "\n",
    "(iv) normality of the error distribution."
   ]
  },
  {
   "cell_type": "markdown",
   "metadata": {},
   "source": [
    "# Linearity"
   ]
  },
  {
   "cell_type": "code",
   "execution_count": 57,
   "metadata": {},
   "outputs": [],
   "source": [
    "fitted_vals = model_1.predict()\n",
    "resids = model_1.resid"
   ]
  },
  {
   "cell_type": "code",
   "execution_count": 59,
   "metadata": {},
   "outputs": [
    {
     "data": {
      "image/png": "[encoded data removed]",
      "text/plain": [
       "<Figure size 432x288 with 2 Axes>"
      ]
     },
     "metadata": {
      "needs_background": "light"
     },
     "output_type": "display_data"
    }
   ],
   "source": [
    "fig, ax = plt.subplots(1,2)\n",
    "\n",
    "sns.regplot(x=fitted_vals, y=y_train, lowess=True, ax=ax[0], line_kws={'color': 'red'})\n",
    "ax[0].set_title('Observed vs. Predicted Values', fontsize=16)\n",
    "ax[0].set(xlabel='Predicted', ylabel='Observed');\n",
    "\n",
    "sns.regplot(x=fitted_vals, y=resids, lowess=True, ax=ax[1], line_kws={'color': 'red'})\n",
    "ax[1].set_title('Residuals vs. Predicted Values', fontsize=16)\n",
    "ax[1].set(xlabel='Predicted', ylabel='Residuals');"
   ]
  },
  {
   "cell_type": "code",
   "execution_count": 60,
   "metadata": {
    "scrolled": true
   },
   "outputs": [
    {
     "data": {
      "image/png": "[encoded data removed]",
      "text/plain": [
       "<Figure size 432x288 with 1 Axes>"
      ]
     },
     "metadata": {
      "needs_background": "light"
     },
     "output_type": "display_data"
    }
   ],
   "source": [
    "y = y_train\n",
    "X = X_train\n",
    "\n",
    "fig, ax = plt.subplots()\n",
    "\n",
    "\n",
    "ax.scatter(y, model_1.resid)\n",
    "ax.axhline(y=0, color=\"black\")\n",
    "ax.set_xlabel(\"price\")\n",
    "ax.set_ylabel(\"residuals\")\n",
    "ax.set_title(\"Not So Linear Relationship Residual Plot?\");"
   ]
  },
  {
   "cell_type": "code",
   "execution_count": 61,
   "metadata": {},
   "outputs": [],
   "source": [
    "# # fig = plt.figure(figsize=(15,5))\n",
    "# sm.graphics.plot_partregress_grid(model_1, exog_idx=['view', 'condition', ' Algona', ' Auburn', ' Bellevue', ' Black Diamond', ' Bothell', ' Burien',\n",
    "#             ' Carnation', ' Clyde Hill', ' Covington', ' Des Moines', ' Duvall', ' Enumclaw', ' Fall City',\n",
    "#             ' Federal Way', ' Issaquah', ' Kenmore', ' Kent', ' Kirkland', ' Lake Forest Park', ' Maple Valley',\n",
    "#             ' Medina', ' Mercer Island', ' Newcastle', ' Normandy Park', ' North Bend', ' Pacific', ' Ravensdale',\n",
    "#             ' Redmond', ' Renton', ' Sammamish', ' SeaTac', ' Seattle', ' Shoreline', ' Snoqualmie', ' Tukwila',\n",
    "#             ' Vashon', ' Woodinville', 'greenbelt', 'weighted__livsqft', 'design_decade', 'nuisance','garage_binary',\n",
    "#             'basement_binary', 'patio_binary','PublicSewer_binary', 'waterfront_binary', 'yard_size_ratio'], fig=fig)\n",
    "\n",
    "# fig.suptitle(\"Not So Linear Relationship Partial Regression Plot\", fontsize=\"large\")\n",
    "\n",
    "# plt.tight_layout()\n",
    "# plt.show();"
   ]
  },
  {
   "cell_type": "markdown",
   "metadata": {},
   "source": [
    "### Rainbow test"
   ]
  },
  {
   "cell_type": "code",
   "execution_count": 62,
   "metadata": {},
   "outputs": [],
   "source": [
    "# # Select subset of data\n",
    "# n = linear_results.nobs\n",
    "\n",
    "# # Taking the middle 50%, so ignoring the first 25% and last 25%\n",
    "# lower_bound = int(np.ceil(n * 0.25))\n",
    "# upper_bound = int(np.floor(n * 0.75))\n",
    "\n",
    "# # Take subsets of y and X\n",
    "# subset_y = linear_model.endog[lower_bound:upper_bound]\n",
    "# subset_X = linear_model.exog[lower_bound:upper_bound]\n",
    "\n",
    "# # Build model w/ subset\n",
    "# subset_model = sm.OLS(subset_y, subset_X)\n",
    "# subset_results = subset_model.fit()\n",
    "\n",
    "# # Visualize subset\n",
    "# fig, axes = plt.subplots(ncols=2, figsize=(15,5))\n",
    "\n",
    "# axes[0].scatter(linear_model.endog, linear_results.resid, color=\"green\")\n",
    "# axes[0].set_title(\"Full Data Residual Plot\")\n",
    "\n",
    "# axes[1].scatter(subset_y, subset_results.resid, color=\"green\")\n",
    "# axes[1].set_title(\"Subset Residual Plot\")\n",
    "\n",
    "# for ax in axes:\n",
    "#     ax.set_xlabel(\"y\")\n",
    "#     ax.set_ylabel(\"residuals\")\n",
    "#     ax.axhline(y=0, color=\"black\")\n",
    "\n",
    "# # Compare residual sum of squares\n",
    "# subset_n = subset_model.nobs\n",
    "\n",
    "# rss = linear_results.ssr\n",
    "# subset_rss = subset_results.ssr\n",
    "\n",
    "# stat = (rss - subset_rss) * subset_results.df_resid / ((n - subset_n) * subset_rss) \n",
    "# stat\n",
    "\n",
    "# # Find pval for above stat\n",
    "# p_value = stats.f.sf(stat, n - subset_n, subset_results.df_resid)\n",
    "# p_value"
   ]
  },
  {
   "cell_type": "code",
   "execution_count": 63,
   "metadata": {},
   "outputs": [
    {
     "data": {
      "text/plain": [
       "(1.134594670616711, 3.0973140629231376e-10)"
      ]
     },
     "execution_count": 63,
     "metadata": {},
     "output_type": "execute_result"
    }
   ],
   "source": [
    "from statsmodels.stats.diagnostic import linear_rainbow\n",
    "linear_rainbow(model_1)"
   ]
  },
  {
   "cell_type": "markdown",
   "metadata": {},
   "source": [
    "Since the p value is below alpha, we reject the null hypothesis and do not consider the relationship to be linear. We will need to perform a non-linear transformation on either the target and/or features."
   ]
  },
  {
   "cell_type": "markdown",
   "metadata": {},
   "source": [
    "# Independence"
   ]
  },
  {
   "cell_type": "code",
   "execution_count": 64,
   "metadata": {
    "scrolled": true
   },
   "outputs": [
    {
     "data": {
      "image/png": "[encoded data removed]",
      "text/plain": [
       "<Figure size 432x288 with 2 Axes>"
      ]
     },
     "metadata": {
      "needs_background": "light"
     },
     "output_type": "display_data"
    }
   ],
   "source": [
    "sns.heatmap(X_train.corr(), center=0);"
   ]
  },
  {
   "cell_type": "code",
   "execution_count": 65,
   "metadata": {
    "scrolled": true
   },
   "outputs": [
    {
     "data": {
      "text/html": [
       "<div>\n",
       "<style scoped>\n",
       "    .dataframe tbody tr th:only-of-type {\n",
       "        vertical-align: middle;\n",
       "    }\n",
       "\n",
       "    .dataframe tbody tr th {\n",
       "        vertical-align: top;\n",
       "    }\n",
       "\n",
       "    .dataframe thead th {\n",
       "        text-align: right;\n",
       "    }\n",
       "</style>\n",
       "<table border=\"1\" class=\"dataframe\">\n",
       "  <thead>\n",
       "    <tr style=\"text-align: right;\">\n",
       "      <th></th>\n",
       "      <th>cc</th>\n",
       "    </tr>\n",
       "    <tr>\n",
       "      <th>pairs</th>\n",
       "      <th></th>\n",
       "    </tr>\n",
       "  </thead>\n",
       "  <tbody>\n",
       "  </tbody>\n",
       "</table>\n",
       "</div>"
      ],
      "text/plain": [
       "Empty DataFrame\n",
       "Columns: [cc]\n",
       "Index: []"
      ]
     },
     "execution_count": 65,
     "metadata": {},
     "output_type": "execute_result"
    }
   ],
   "source": [
    "# save absolute value of correlation matrix as a data frame\n",
    "# converts all values to absolute value\n",
    "# stacks the row:column pairs into a multindex\n",
    "# reset the index to set the multindex to seperate columns\n",
    "# sort values. 0 is the column automatically generated by the stacking\n",
    "\n",
    "df_corr=X_train.corr().abs().stack().reset_index().sort_values(0, ascending=False)\n",
    "\n",
    "df_corr\n",
    "\n",
    "# zip the variable name columns (Which were only named level_0 and level_1 by default) in a new column named \"pairs\"\n",
    "df_corr['pairs'] = list(zip(df_corr.level_0, df_corr.level_1))\n",
    "\n",
    "# set index to pairs\n",
    "df_corr.set_index(['pairs'], inplace = True)\n",
    "\n",
    "#d rop level columns\n",
    "df_corr.drop(columns=['level_1', 'level_0'], inplace = True)\n",
    "\n",
    "# rename correlation column as cc rather than 0\n",
    "df_corr.columns = ['cc']\n",
    "\n",
    "# drop duplicates. This could be dangerous if you have variables perfectly correlated with variables other than themselves.\n",
    "# for the sake of exercise, kept it in.\n",
    "df_corr.drop_duplicates(inplace=True)\n",
    "\n",
    "df_corr[(df_corr.cc>.75) & (df_corr.cc <1)]"
   ]
  },
  {
   "cell_type": "markdown",
   "metadata": {
    "scrolled": true
   },
   "source": [
    "We can see that we have no correlation between variables above 0.75, and so we can say that there is no multicollinearity."
   ]
  },
  {
   "cell_type": "markdown",
   "metadata": {},
   "source": [
    "# Normality"
   ]
  },
  {
   "cell_type": "code",
   "execution_count": 66,
   "metadata": {},
   "outputs": [
    {
     "data": {
      "image/png": "[encoded data removed]",
      "text/plain": [
       "<Figure size 432x288 with 1 Axes>"
      ]
     },
     "metadata": {
      "needs_background": "light"
     },
     "output_type": "display_data"
    }
   ],
   "source": [
    "# Histogram of residuals\n",
    "fig, ax = plt.subplots()\n",
    "sns.histplot(model_1.resid, bins=200, element=\"step\", kde=True, ax=ax)\n",
    "ax.set_xlabel(\"Model Residuals\")\n",
    "fig.suptitle(\"Distribution\");"
   ]
  },
  {
   "cell_type": "code",
   "execution_count": 67,
   "metadata": {
    "scrolled": true
   },
   "outputs": [
    {
     "data": {
      "image/png": "[encoded data removed]",
      "text/plain": [
       "<Figure size 432x288 with 1 Axes>"
      ]
     },
     "metadata": {
      "needs_background": "light"
     },
     "output_type": "display_data"
    }
   ],
   "source": [
    "# Q-Q plot\n",
    "# Use qqplot function from StatsModels\n",
    "fig, ax = plt.subplots()\n",
    "sm.graphics.qqplot(model_1.resid, dist=stats.norm, line='45', fit=True, ax=ax)\n",
    "\n",
    "# Customize plot appearance\n",
    "line = ax.lines[1]\n",
    "line.set_color(\"black\")\n",
    "fig.suptitle(\"Distribution\");"
   ]
  },
  {
   "cell_type": "code",
   "execution_count": 68,
   "metadata": {},
   "outputs": [
    {
     "data": {
      "text/plain": [
       "(3612130.458026683, 0.0, 4.129222139444256, 69.57999130407707)"
      ]
     },
     "execution_count": 68,
     "metadata": {},
     "output_type": "execute_result"
    }
   ],
   "source": [
    "from statsmodels.stats.stattools import jarque_bera\n",
    "jarque_bera(model_1.resid)"
   ]
  },
  {
   "cell_type": "markdown",
   "metadata": {},
   "source": [
    "To determine the normality of the model, we can look at the histogram of residuals and QQ plot. We can also reference the Jarque-Bera test results.\n",
    "\n",
    "JB: 3612130\n",
    "\n",
    "P(JB): 0.0\n",
    "\n",
    "We can reject the null hypothesis as the residual P value is below alpha, and so the distribution is not normal.\n",
    "\n",
    "The fix is to transform non-normal features or the target by applying a log transform."
   ]
  },
  {
   "cell_type": "markdown",
   "metadata": {},
   "source": [
    "# Equal Variance(Homoskedacity)"
   ]
  },
  {
   "cell_type": "code",
   "execution_count": 72,
   "metadata": {},
   "outputs": [],
   "source": [
    "# Build a simple linear regression model and extract slope + intercept\n",
    "# to get the best-fit line\n",
    "# slope = model_1.params['price']\n",
    "# intercept = model_1.params[\"const\"]\n",
    "# fit_line = slope * x_mpg + intercept\n",
    "\n"
   ]
  },
  {
   "cell_type": "code",
   "execution_count": 75,
   "metadata": {},
   "outputs": [
    {
     "data": {
      "image/png": "[encoded data removed]",
      "text/plain": [
       "<Figure size 576x288 with 1 Axes>"
      ]
     },
     "metadata": {
      "needs_background": "light"
     },
     "output_type": "display_data"
    }
   ],
   "source": [
    "# Plotting the residuals\n",
    "plt.subplots(figsize=(8, 4))\n",
    "plt.scatter(x=y_train, y=model_1.resid, alpha=0.8)\n",
    "plt.axhline(y=0, color='darkorange', linestyle='--')\n",
    "\n",
    "plt.ylabel('Residual', fontsize=14)\n",
    "plt.xlabel('Price', fontsize=14)\n",
    "plt.title('Homescedasticity Assumption', fontsize=16)\n",
    "plt.show();"
   ]
  },
  {
   "cell_type": "code",
   "execution_count": 45,
   "metadata": {},
   "outputs": [
    {
     "data": {
      "text/plain": [
       "(0.9943119873684759, 0.7801174842851333, 'two-sided')"
      ]
     },
     "execution_count": 45,
     "metadata": {},
     "output_type": "execute_result"
    }
   ],
   "source": [
    "# Goldfeld-Quandt test:\n",
    "from statsmodels.stats.diagnostic import het_goldfeldquandt\n",
    "\n",
    "het_goldfeldquandt(y_train, X_train, alternative='two-sided')"
   ]
  },
  {
   "cell_type": "markdown",
   "metadata": {},
   "source": [
    "For this data, we have a p value of about 0.78. We cannot reject the null hypothesis, so the data is homoscedastic."
   ]
  },
  {
   "cell_type": "code",
   "execution_count": null,
   "metadata": {},
   "outputs": [],
   "source": []
  }
 ],
 "metadata": {
  "kernelspec": {
   "display_name": "Python (learn-env)",
   "language": "python",
   "name": "learn-env"
  },
  "language_info": {
   "codemirror_mode": {
    "name": "ipython",
    "version": 3
   },
   "file_extension": ".py",
   "mimetype": "text/x-python",
   "name": "python",
   "nbconvert_exporter": "python",
   "pygments_lexer": "ipython3",
   "version": "3.8.5"
  }
 },
 "nbformat": 4,
 "nbformat_minor": 4
}
